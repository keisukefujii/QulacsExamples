{
 "cells": [
  {
   "cell_type": "code",
   "execution_count": 1,
   "metadata": {},
   "outputs": [],
   "source": [
    "from qulacs import QuantumState\n",
    "from qulacs.gate import Identity, X,Y,Z #パウリ演算子\n",
    "from qulacs.gate import H,S,Sdag, sqrtX,sqrtXdag,sqrtY,sqrtYdag #1量子ビット Clifford演算\n",
    "from qulacs.gate import T,Tdag #1量子ビット 非Clifford演算\n",
    "from qulacs.gate import RX,RY,RZ #パウリ演算子についての回転演算\n",
    "from qulacs.gate import CNOT, CZ, SWAP #2量子ビット演算\n",
    "from qulacs import QuantumCircuit\n",
    "import matplotlib.pyplot as plt\n",
    "import numpy as np"
   ]
  },
  {
   "cell_type": "markdown",
   "metadata": {},
   "source": [
    "### 一番簡単な Noise Mitigation を実装してみる\n",
    "ここでは qulacs を用いて、ノイズを入れる方法を紹介し、そのノイズの影響を noise mitigation (Efficient Variational Quantum Simulator Incorporating Active Error Minimization, Ying Li and Simon C. Benjamin, PRX 2017)を用いて補償する方法を紹介する。"
   ]
  },
  {
   "cell_type": "markdown",
   "metadata": {},
   "source": [
    "### 理想的な回路の構築"
   ]
  },
  {
   "cell_type": "code",
   "execution_count": 2,
   "metadata": {},
   "outputs": [],
   "source": [
    "nqubits = 1\n",
    "state = QuantumState(nqubits)\n",
    "state.set_zero_state\n",
    "circuit  = QuantumCircuit(nqubits)\n",
    "circuit.add_H_gate(0)\n",
    "angle = np.pi/2.0\n",
    "circuit.add_gate(RZ(0,angle))\n",
    "circuit.add_H_gate(0)\n",
    "\n",
    "circuit.update_quantum_state(state)"
   ]
  },
  {
   "cell_type": "markdown",
   "metadata": {},
   "source": [
    "### 観測量の定義"
   ]
  },
  {
   "cell_type": "code",
   "execution_count": 3,
   "metadata": {},
   "outputs": [],
   "source": [
    "from qulacs import Observable, QuantumState\n",
    "Pauli_product = \"Z 0\"\n",
    "observable = Observable(nqubits)\n",
    "observable.add_operator(1.0,Pauli_product)"
   ]
  },
  {
   "cell_type": "markdown",
   "metadata": {},
   "source": [
    "### 期待値の計算"
   ]
  },
  {
   "cell_type": "code",
   "execution_count": 4,
   "metadata": {},
   "outputs": [
    {
     "name": "stdout",
     "output_type": "stream",
     "text": [
      "1.1102230246251565e-16\n"
     ]
    }
   ],
   "source": [
    "ex_value = observable.get_expectation_value(state)\n",
    "print(ex_value)"
   ]
  },
  {
   "cell_type": "markdown",
   "metadata": {},
   "source": [
    "### サンプリングによる期待値の評価\n",
    "数値計算では、期待値を直接得られるが、実際の量子コンピュータでは、サンプリングした結果に基づいて平均値をけいさんすることになる。qulacsではサンプリングのための関数も用意されている。"
   ]
  },
  {
   "cell_type": "code",
   "execution_count": 5,
   "metadata": {},
   "outputs": [],
   "source": [
    "from qulacs.gate import P0,P1\n",
    "meas_ope = P0(0) # 0番目の量子ビットに作用する|0>への射影演算子\n",
    "meas_ope.update_quantum_state(state)"
   ]
  },
  {
   "cell_type": "markdown",
   "metadata": {},
   "source": [
    "確率の計算は`get_norm`から"
   ]
  },
  {
   "cell_type": "code",
   "execution_count": 6,
   "metadata": {},
   "outputs": [
    {
     "name": "stdout",
     "output_type": "stream",
     "text": [
      "0.5000000000000002\n"
     ]
    }
   ],
   "source": [
    "prob_zero= state.get_norm()\n",
    "print(prob_zero)"
   ]
  },
  {
   "cell_type": "markdown",
   "metadata": {},
   "source": [
    "測定結果をサンプルして返す関数を定義します。"
   ]
  },
  {
   "cell_type": "code",
   "execution_count": 7,
   "metadata": {},
   "outputs": [],
   "source": [
    "import random \n",
    "def sample(prob_zero):\n",
    "    if random.random()<prob_zero:\n",
    "        return 0\n",
    "    else: \n",
    "        return 1"
   ]
  },
  {
   "cell_type": "markdown",
   "metadata": {},
   "source": [
    "### 干渉を見る"
   ]
  },
  {
   "cell_type": "code",
   "execution_count": 8,
   "metadata": {},
   "outputs": [],
   "source": [
    "def interferometer(phase,num_sample):\n",
    "    nqubits = 1\n",
    "    state = QuantumState(nqubits)\n",
    "    state.set_zero_state\n",
    "    \n",
    "    circuit  = QuantumCircuit(nqubits)\n",
    "    circuit.add_H_gate(0)\n",
    "    angle = phase\n",
    "    circuit.add_gate(RZ(0,angle))\n",
    "    circuit.add_H_gate(0)\n",
    "    circuit.update_quantum_state(state)\n",
    "    \n",
    "    meas_ope = P0(0) # 0番目の量子ビットに作用する|0>への射影演算子\n",
    "    meas_ope.update_quantum_state(state)\n",
    "    \n",
    "    prob_zero= state.get_norm()\n",
    "    \n",
    "    mean_value =0.0\n",
    "    for i in range(num_sample):\n",
    "        mean_value = mean_value +(1-2*sample(prob_zero))\n",
    "    mean_value = mean_value/num_sample\n",
    "    return  mean_value"
   ]
  },
  {
   "cell_type": "code",
   "execution_count": 9,
   "metadata": {},
   "outputs": [],
   "source": [
    "result0 = []\n",
    "\n",
    "for i in range(10):\n",
    "    phase = i*np.pi/10.0\n",
    "    result0.append(interferometer(phase,10000))"
   ]
  },
  {
   "cell_type": "code",
   "execution_count": 10,
   "metadata": {},
   "outputs": [
    {
     "data": {
      "text/plain": [
       "[<matplotlib.lines.Line2D at 0x106c86a90>]"
      ]
     },
     "execution_count": 10,
     "metadata": {},
     "output_type": "execute_result"
    },
    {
     "data": {
      "image/png": "[encoded data removed]",
      "text/plain": [
       "<Figure size 432x288 with 1 Axes>"
      ]
     },
     "metadata": {},
     "output_type": "display_data"
    }
   ],
   "source": [
    "import matplotlib.pyplot as plt\n",
    "plt.plot(result0)"
   ]
  },
  {
   "cell_type": "markdown",
   "metadata": {},
   "source": [
    "### ノイズの導入\n",
    "量子回路におけるノイズを導入しよう。qulacsではノイズ（一般的なCPTP写像）の実装がなされている。あらかじめ定義されているノイズは、`BitFlipNoise`, `DephasingNoise`, `IndepenedentXZNoise`, `DepolarizingNoise`。位相緩和、`DephasingNoise`を入れてみよう。"
   ]
  },
  {
   "cell_type": "code",
   "execution_count": 11,
   "metadata": {},
   "outputs": [],
   "source": [
    "from qulacs.gate import DephasingNoise"
   ]
  },
  {
   "cell_type": "code",
   "execution_count": 12,
   "metadata": {},
   "outputs": [],
   "source": [
    "def noisy_interferometer(phase,num_sample,dephasing_rate):\n",
    "    nqubits = 1\n",
    "    state = QuantumState(nqubits)\n",
    "    state.set_zero_state()\n",
    "    circuit = QuantumCircuit(nqubits)\n",
    "    circuit.add_gate(H(0))\n",
    "    circuit.add_gate(RZ(0,phase))\n",
    "    circuit.add_gate(DephasingNoise(0,dephasing_rate))\n",
    "    circuit.add_gate(H(0))\n",
    "    circuit.add_gate(P0(0))\n",
    "    \n",
    "\n",
    "    mean_value =0.0\n",
    "    for i in range(num_sample):\n",
    "        state.set_zero_state()\n",
    "        circuit.update_quantum_state(state)\n",
    "        prob_zero = state.get_norm()\n",
    "        mean_value = mean_value +(1-2*sample(prob_zero))\n",
    "    mean_value = mean_value/num_sample\n",
    "    return  mean_value"
   ]
  },
  {
   "cell_type": "code",
   "execution_count": 13,
   "metadata": {
    "scrolled": true
   },
   "outputs": [
    {
     "data": {
      "image/png": "[encoded data removed]",
      "text/plain": [
       "<Figure size 432x288 with 1 Axes>"
      ]
     },
     "metadata": {},
     "output_type": "display_data"
    }
   ],
   "source": [
    "result = []\n",
    "for i in range(10):\n",
    "    result.append(noisy_interferometer(i*np.pi/10,10000,0.1))\n",
    "plt.plot(result)\n",
    "plt.show()"
   ]
  },
  {
   "cell_type": "markdown",
   "metadata": {},
   "source": [
    "ノイズを２倍にする。"
   ]
  },
  {
   "cell_type": "code",
   "execution_count": 14,
   "metadata": {},
   "outputs": [
    {
     "data": {
      "image/png": "[encoded data removed]",
      "text/plain": [
       "<Figure size 432x288 with 1 Axes>"
      ]
     },
     "metadata": {},
     "output_type": "display_data"
    }
   ],
   "source": [
    "result2 = []\n",
    "for i in range(10):\n",
    "    result2.append(noisy_interferometer(i*np.pi/10,10000,0.2))\n",
    "plt.plot(result2)\n",
    "plt.show()"
   ]
  },
  {
   "cell_type": "code",
   "execution_count": 46,
   "metadata": {},
   "outputs": [
    {
     "data": {
      "image/png": "[encoded data removed]",
      "text/plain": [
       "<Figure size 432x288 with 1 Axes>"
      ]
     },
     "metadata": {},
     "output_type": "display_data"
    }
   ],
   "source": [
    "plt.plot(result0)\n",
    "plt.plot(result)\n",
    "plt.plot(result2)\n",
    "plt.show()"
   ]
  },
  {
   "cell_type": "markdown",
   "metadata": {},
   "source": [
    "線形に外挿する。"
   ]
  },
  {
   "cell_type": "code",
   "execution_count": 48,
   "metadata": {},
   "outputs": [
    {
     "data": {
      "image/png": "[encoded data removed]",
      "text/plain": [
       "<Figure size 432x288 with 1 Axes>"
      ]
     },
     "metadata": {},
     "output_type": "display_data"
    }
   ],
   "source": [
    "plt.plot(result0)\n",
    "plt.plot(result)\n",
    "plt.plot(result2)\n",
    "plt.plot(mitigated)\n",
    "plt.show()"
   ]
  },
  {
   "cell_type": "code",
   "execution_count": 47,
   "metadata": {},
   "outputs": [],
   "source": [
    "mitigated = []\n",
    "for i in range(10):\n",
    "    a = 10.0*(result[i]-result[i])\n",
    "    b = 2.0*result[i]-result2[i]\n",
    "    mitigated.append(b)"
   ]
  },
  {
   "cell_type": "markdown",
   "metadata": {},
   "source": [
    "特に期待値が0.01くらいになる領域をみてみる。"
   ]
  },
  {
   "cell_type": "code",
   "execution_count": 64,
   "metadata": {},
   "outputs": [
    {
     "data": {
      "text/plain": [
       "0.01132"
      ]
     },
     "execution_count": 64,
     "metadata": {},
     "output_type": "execute_result"
    }
   ],
   "source": [
    "interferometer(np.pi/2.0-0.01,100000)\n"
   ]
  },
  {
   "cell_type": "code",
   "execution_count": null,
   "metadata": {},
   "outputs": [
    {
     "name": "stdout",
     "output_type": "stream",
     "text": [
      "0.00942\n",
      "0.007029\n"
     ]
    }
   ],
   "source": [
    "print(interferometer(np.pi/2.0-0.01,2000000))\n",
    "print(noisy_interferometer(np.pi/2.0-0.01,2000000,0.1))\n",
    "print(noisy_interferometer(np.pi/2.0-0.01,2000000,0.2))"
   ]
  },
  {
   "cell_type": "code",
   "execution_count": 77,
   "metadata": {},
   "outputs": [
    {
     "data": {
      "image/png": "[encoded data removed]",
      "text/plain": [
       "<Figure size 432x288 with 1 Axes>"
      ]
     },
     "metadata": {},
     "output_type": "display_data"
    }
   ],
   "source": [
    "test=[[0,0.1,0.2],[0.010534,0.009718,0.005956]]\n",
    "plt.plot(test[1])\n",
    "plt.show()"
   ]
  },
  {
   "cell_type": "code",
   "execution_count": 68,
   "metadata": {},
   "outputs": [
    {
     "data": {
      "text/plain": [
       "0.01106"
      ]
     },
     "execution_count": 68,
     "metadata": {},
     "output_type": "execute_result"
    }
   ],
   "source": [
    "noisy_interferometer(np.pi/2.0-0.01,100000,0.2)"
   ]
  },
  {
   "cell_type": "code",
   "execution_count": 60,
   "metadata": {},
   "outputs": [
    {
     "data": {
      "text/plain": [
       "1.4707963267948965"
      ]
     },
     "execution_count": 60,
     "metadata": {},
     "output_type": "execute_result"
    }
   ],
   "source": [
    "np.pi/2.0-0.1"
   ]
  },
  {
   "cell_type": "code",
   "execution_count": 61,
   "metadata": {},
   "outputs": [
    {
     "data": {
      "text/plain": [
       "0.09339999999999998"
      ]
     },
     "execution_count": 61,
     "metadata": {},
     "output_type": "execute_result"
    }
   ],
   "source": [
    "2.0*0.07594-0.05848"
   ]
  },
  {
   "cell_type": "code",
   "execution_count": 63,
   "metadata": {},
   "outputs": [
    {
     "data": {
      "text/plain": [
       "1.5607963267948965"
      ]
     },
     "execution_count": 63,
     "metadata": {},
     "output_type": "execute_result"
    }
   ],
   "source": [
    "np.pi/2.0-0.01"
   ]
  },
  {
   "cell_type": "code",
   "execution_count": null,
   "metadata": {},
   "outputs": [],
   "source": []
  }
 ],
 "metadata": {
  "kernelspec": {
   "display_name": "Python 3",
   "language": "python",
   "name": "python3"
  },
  "language_info": {
   "codemirror_mode": {
    "name": "ipython",
    "version": 3
   },
   "file_extension": ".py",
   "mimetype": "text/x-python",
   "name": "python",
   "nbconvert_exporter": "python",
   "pygments_lexer": "ipython3",
   "version": "3.6.0"
  }
 },
 "nbformat": 4,
 "nbformat_minor": 2
}
