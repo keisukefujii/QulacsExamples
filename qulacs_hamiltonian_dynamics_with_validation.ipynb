{
 "cells": [
  {
   "cell_type": "code",
   "execution_count": 1,
   "metadata": {},
   "outputs": [],
   "source": [
    "import matplotlib.pyplot as plt\n",
    "import numpy as np\n",
    "import time \n",
    "import random\n",
    "from qulacs import Observable\n",
    "from qulacs import QuantumState\n",
    "from qulacs import QuantumCircuit\n",
    "from qulacs.gate import DenseMatrix\n",
    "from utility import show_observable\n",
    "from scipy.linalg import expm"
   ]
  },
  {
   "cell_type": "markdown",
   "metadata": {},
   "source": [
    "# ハミルトニアンダイナミクスをobservableからシステマティックに構成する\n",
    "- add_observable_rotationはバグっぽい？\n",
    "- numpyで計算したユニタリ演算とqulacsでobservableからシステマティックにTrotter展開した回路で同じになるか検証する\n",
    "\n",
    "まずは、1量子ビットのハミルトニアンが $H=Y$ よういう簡単な例で、"
   ]
  },
  {
   "cell_type": "code",
   "execution_count": 2,
   "metadata": {},
   "outputs": [
    {
     "name": "stdout",
     "output_type": "stream",
     "text": [
      "(1+0j) Y0\n",
      "c 1.0\n"
     ]
    }
   ],
   "source": [
    "from qulacs.state import inner_product\n",
    "from qulacs import ParametricQuantumCircuit\n",
    "\n",
    "nqubit = 1\n",
    "state =QuantumState(nqubit)\n",
    "\n",
    "#初期状態は特殊な状態を避けたいのでランダム状態にする\n",
    "state.set_Haar_random_state()\n",
    "\n",
    "copied_state = state.copy()\n",
    "\n",
    "#qulacsを使った計算\n",
    "dt = 0.01\n",
    "T = np.pi*random.random()\n",
    "rep = int(T/dt)\n",
    "\n",
    "#observableを定義する\n",
    "hamiltonian = Observable(nqubit)\n",
    "hamiltonian.add_operator(1.0,\"Y 0\")\n",
    "show_observable(hamiltonian)\n",
    "term = hamiltonian.get_term(0)\n",
    "\n",
    "\n",
    "circuit = ParametricQuantumCircuit(nqubit)\n",
    "circuit.add_parametric_multi_Pauli_rotation_gate(term.get_index_list(),term.get_pauli_id_list(), -2.0*T)\n",
    "circuit.update_quantum_state(state)\n",
    "#print(state)\n",
    "\n",
    "#numpy 経由の計算\n",
    "pY = np.array([[0+0.0j,-1.0j],[0.0+1.0j,0.0+0.0j]])\n",
    "unitary = expm(-1.j*T*pY)\n",
    "qulacs_unitary = DenseMatrix(0,unitary)\n",
    "qulacs_unitary.update_quantum_state(copied_state)\n",
    "#print(copied_state)\n",
    "\n",
    "#print(\"a\", abs(inner_product(state,tmp)))\n",
    "#print(\"b\",abs(inner_product(state,copied_state)))\n",
    "print(\"c\",abs(inner_product(state,copied_state))**2)\n"
   ]
  },
  {
   "cell_type": "markdown",
   "metadata": {},
   "source": [
    "内積が1になっている事がわかったので、numpyで計算した$e^{-iHt}$とqulacsのPauli rotationで作ったユニタリ演算が一致していることがわかる。ただし、1体のパウリしか登場したないのでTrotter展開はしなかった。次にハミルトニアンが、$H=X+Z$の場合を考えTrotter展開をしてみる。"
   ]
  },
  {
   "cell_type": "code",
   "execution_count": 3,
   "metadata": {},
   "outputs": [
    {
     "name": "stdout",
     "output_type": "stream",
     "text": [
      "(1+0j) X0\n",
      "(1+0j) Z0\n",
      "c 0.999810030285307\n"
     ]
    }
   ],
   "source": [
    "from qulacs.state import inner_product\n",
    "from qulacs import ParametricQuantumCircuit\n",
    "\n",
    "nqubit = 1\n",
    "state =QuantumState(nqubit)\n",
    "\n",
    "#初期状態は特殊な状態を避けたいのでランダム状態にする\n",
    "state.set_Haar_random_state()\n",
    "\n",
    "copied_state = state.copy()\n",
    "\n",
    "#qulacsを使った計算\n",
    "dt = 0.01\n",
    "T = np.pi*random.random()\n",
    "rep = int(T/dt)\n",
    "\n",
    "#observableを定義する\n",
    "hamiltonian = Observable(nqubit)\n",
    "hamiltonian.add_operator(1.0,\"X 0\")\n",
    "hamiltonian.add_operator(1.0,\"Z 0\")\n",
    "show_observable(hamiltonian)\n",
    "term = hamiltonian.get_term(0)\n",
    "\n",
    "\n",
    "circuit = ParametricQuantumCircuit(nqubit)\n",
    "\n",
    "#Trotter展開をする必要があるのでdtの時間発展をrep回繰り返すことになる\n",
    "for _ in range(rep):\n",
    "    for i in range(hamiltonian.get_term_count()):\n",
    "        term = hamiltonian.get_term(i)\n",
    "        circuit.add_parametric_multi_Pauli_rotation_gate(term.get_index_list(),term.get_pauli_id_list(), -2.0*dt)\n",
    "    \n",
    "circuit.update_quantum_state(state)\n",
    "#print(state)\n",
    "\n",
    "#numpy 経由の計算\n",
    "pX = np.array([[0+0.0j,1+0.0j],[1+0.0j,0+0.0j]])\n",
    "pZ = np.array([[1+0.0j,0+0.0j],[0+0.0j,-1+0.0j]])\n",
    "num_hami = pX+pZ\n",
    "unitary = expm(-1.j*T*num_hami)\n",
    "qulacs_unitary = DenseMatrix(0,unitary)\n",
    "qulacs_unitary.update_quantum_state(copied_state)\n",
    "#print(copied_state)\n",
    "\n",
    "#print(\"a\", abs(inner_product(state,tmp)))\n",
    "#print(\"b\",abs(inner_product(state,copied_state)))\n",
    "print(\"c\",abs(inner_product(state,copied_state))**2)"
   ]
  },
  {
   "cell_type": "markdown",
   "metadata": {},
   "source": [
    "$dt^2$の誤差の範囲でTrotter展開とnumpyの行列指数関数が一致している。次は一般の多体ハミルトニアンに拡張しよう。まずはハミルトニアンを係数のリストからシステマティックに定義する関数を用意しておく。"
   ]
  },
  {
   "cell_type": "code",
   "execution_count": 4,
   "metadata": {},
   "outputs": [],
   "source": [
    "def add_ZZ_interactions(operator,ListOfInt,ListOfJij):\n",
    "    nqubits = operator.get_qubit_count()\n",
    "    \n",
    "    for k in range(len(ListOfInt)):\n",
    "        operator.add_operator(ListOfJij[k],\"Z {0}\".format(ListOfInt[k][0])+\"Z {0}\".format(ListOfInt[k][1]))\n",
    "    return operator\n",
    "\n",
    "def add_X_fields(operator,field):\n",
    "    nqubits = operator.get_qubit_count()\n",
    "    for k in range(nqubits):\n",
    "        operator.add_operator(field[k],\"X {0}\".format(k)) \n",
    "    return operator\n",
    "\n",
    "def add_Z_fields(operator,field):\n",
    "    nqubits = operator.get_qubit_count()\n",
    "    for k in range(nqubits):\n",
    "        operator.add_operator(field[k],\"Z {0}\".format(k)) \n",
    "    return operator"
   ]
  },
  {
   "cell_type": "markdown",
   "metadata": {},
   "source": [
    "これを用いてランダムな結合や磁場（$\\pm 1$）を持つ縦磁場・横磁場イジング模型を定義する。"
   ]
  },
  {
   "cell_type": "code",
   "execution_count": 5,
   "metadata": {},
   "outputs": [
    {
     "name": "stdout",
     "output_type": "stream",
     "text": [
      "[-1]\n",
      "[-1  1]\n",
      "[ 1 -1]\n",
      "(-1+0j) Z1 Z0\n",
      "(-1+0j) Z0\n",
      "(1+0j) Z1\n",
      "(1+0j) X0\n",
      "(-1+0j) X1\n"
     ]
    }
   ],
   "source": [
    "nqubit = 2\n",
    "Ising_hamiltonian = Observable(nqubit)\n",
    "\n",
    "ListOfInt = [[i,j] for i in range(nqubit) for j in range(i)]\n",
    "ListOfJij = np.array([(-1)**random.randint(0,1) for i in range(len(ListOfInt))])\n",
    "hz = np.array([(-1)**random.randint(0,1) for i in range(nqubit)])\n",
    "hx = np.array([(-1)**random.randint(0,1) for i in range(nqubit)])\n",
    "\n",
    "print(ListOfJij)\n",
    "print(hz)\n",
    "print(hx)\n",
    "\n",
    "Ising_hamiltonian = add_ZZ_interactions(Ising_hamiltonian,ListOfInt,ListOfJij)\n",
    "Ising_hamiltonian = add_Z_fields(Ising_hamiltonian,hz)\n",
    "Ising_hamiltonian = add_X_fields(Ising_hamiltonian,hx)\n",
    "show_observable(Ising_hamiltonian)"
   ]
  },
  {
   "cell_type": "markdown",
   "metadata": {},
   "source": [
    "observableから$dt$を与えるとTrotterized circuitを返す関数を作っておく。"
   ]
  },
  {
   "cell_type": "code",
   "execution_count": 6,
   "metadata": {},
   "outputs": [],
   "source": [
    "def add_Trotterized_gates_from_observable(parametric_circuit,hamiltonian,dt):\n",
    "\n",
    "    nqubits = hamiltonian.get_qubit_count()\n",
    "\n",
    "    for j in range(hamiltonian.get_term_count()):\n",
    "        pauli = hamiltonian.get_term(j)\n",
    "\n",
    "        # Get the subscript of each pauli symbol\n",
    "        index_list = pauli.get_index_list()\n",
    "\n",
    "        # Get pauli symbols (I,X,Y,Z -> 0,1,2,3)\n",
    "        pauli_id_list = pauli.get_pauli_id_list()\n",
    "        \n",
    "        #Get coefficient\n",
    "        coeff = pauli.get_coef()\n",
    "\n",
    "        #qulacsのPauli rotaitonは2倍されていることに注意（回転方向も注意）\n",
    "        parametric_circuit.add_parametric_multi_Pauli_rotation_gate(index_list, pauli_id_list,-2.0*coeff.real*dt)\n",
    "    return parametric_circuit"
   ]
  },
  {
   "cell_type": "markdown",
   "metadata": {},
   "source": [
    "Trotterized circuitを作る。"
   ]
  },
  {
   "cell_type": "code",
   "execution_count": 7,
   "metadata": {},
   "outputs": [
    {
     "data": {
      "image/png": "[encoded data removed]",
      "text/plain": [
       "<Figure size 324x194.4 with 1 Axes>"
      ]
     },
     "metadata": {
      "needs_background": "light"
     },
     "output_type": "display_data"
    }
   ],
   "source": [
    "circuit = ParametricQuantumCircuit(nqubit)\n",
    "circuit = add_Trotterized_gates_from_observable(circuit,Ising_hamiltonian,dt)\n",
    "\n",
    "from qulacsvis import circuit_drawer\n",
    "circuit_drawer(circuit, \"mpl\")"
   ]
  },
  {
   "cell_type": "markdown",
   "metadata": {},
   "source": [
    "numpyでテンソル積空間に作用する演算子を定義する"
   ]
  },
  {
   "cell_type": "code",
   "execution_count": 8,
   "metadata": {},
   "outputs": [],
   "source": [
    "import numpy as np\n",
    "#パウリ演算子\n",
    "pI = np.array([[1+0.0j,0+0.0j],[0+0.0j,1+0.0j]])\n",
    "pX = np.array([[0+0.0j,1+0.0j],[1+0.0j,0+0.0j]])\n",
    "pZ = np.array([[1+0.0j,0+0.0j],[0+0.0j,-1+0.0j]])\n",
    "pY = np.array([[0+0.0j,-1.0j],[0.0+1.0j,0.0+0.0j]])\n",
    "#pHad = (pX+pZ)/np.sqrt(2)\n",
    "#pP0 = (pI+pZ)/2\n",
    "#pP1 = (pI-pZ)/2\n",
    "\n",
    "def define_OneQubitGate(nqubits):    \n",
    "    global nX,nY,nZ,nH,nP0,nP1,nIde\n",
    "    nX=[1]*(nqubits)\n",
    "#    nY=[1]*(nqubits)\n",
    "    nZ=[1]*(nqubits)\n",
    "#    nH=[1]*(nqubits)\n",
    "#    nP0=[1]*(nqubits)\n",
    "#    nP1=[1]*(nqubits)\n",
    "\n",
    "    for k in range(nqubits):\n",
    "        for j in range(nqubits):\n",
    "            i = nqubits - 1 - k # oder of tensor product\n",
    "            if(k!= j):\n",
    "\n",
    "                \n",
    "                nX[i] = np.kron(pI,nX[i])\n",
    "#                nY[i] = np.kron(pI,nY[i])\n",
    "                nZ[i] = np.kron(pI,nZ[i])\n",
    "#                nH[i] = np.kron(pI,nH[i])\n",
    "#                nP0[i] = np.kron(pI,nP0[i])\n",
    "#                nP1[i] = np.kron(pI,nP1[i])\n",
    "            else:\n",
    "                nX[i] = np.kron(pX,nX[i])\n",
    "#             nY[i] = np.kron(pY,nY[i])\n",
    "                nZ[i] = np.kron(pZ,nZ[i])\n",
    " #               nH[i] = np.kron(pHad,nH[i])\n",
    " #               nP0[i] = np.kron(pP0,nP0[i])\n",
    " #               nP1[i] = np.kron(pP1,nP1[i])\n",
    "    nIde = np.eye(2**nqubits)"
   ]
  },
  {
   "cell_type": "markdown",
   "metadata": {},
   "source": [
    "テンソル積をとる順序も含めて正しいか確認"
   ]
  },
  {
   "cell_type": "code",
   "execution_count": 9,
   "metadata": {},
   "outputs": [
    {
     "data": {
      "text/plain": [
       "array([[ 1.+0.j,  0.+0.j,  0.+0.j,  0.+0.j],\n",
       "       [ 0.+0.j,  1.+0.j,  0.+0.j,  0.+0.j],\n",
       "       [ 0.+0.j,  0.+0.j, -1.+0.j, -0.+0.j],\n",
       "       [ 0.+0.j,  0.+0.j, -0.+0.j, -1.+0.j]])"
      ]
     },
     "execution_count": 9,
     "metadata": {},
     "output_type": "execute_result"
    }
   ],
   "source": [
    "define_OneQubitGate(nqubit)\n",
    "nZ[0]"
   ]
  },
  {
   "cell_type": "markdown",
   "metadata": {},
   "source": [
    "numpyでイジングハミルトニアンを定義する"
   ]
  },
  {
   "cell_type": "code",
   "execution_count": 10,
   "metadata": {},
   "outputs": [
    {
     "name": "stdout",
     "output_type": "stream",
     "text": [
      "[[-1.+0.j -1.+0.j  1.+0.j  0.+0.j]\n",
      " [-1.+0.j -1.+0.j  0.+0.j  1.+0.j]\n",
      " [ 1.+0.j  0.+0.j  3.+0.j -1.+0.j]\n",
      " [ 0.+0.j  1.+0.j -1.+0.j -1.+0.j]]\n"
     ]
    }
   ],
   "source": [
    "np_Ising_hami =  [[0 for i in range(2**nqubit)] for i in range(2**nqubit)]\n",
    "\n",
    "#イジング相互作用\n",
    "for i in range(len(ListOfInt)):\n",
    "    np_Ising_hami =  np_Ising_hami + ListOfJij[i]*np.dot(nZ[ListOfInt[i][0]],nZ[ListOfInt[i][1]])\n",
    "    \n",
    "#縦磁場と横磁場\n",
    "for i in range(nqubit):\n",
    "    np_Ising_hami =  np_Ising_hami +hz[i]*nZ[i]\n",
    "for i in range(nqubit):\n",
    "    np_Ising_hami =  np_Ising_hami +hx[i]*nX[i]\n",
    "\n",
    "print(np_Ising_hami)"
   ]
  },
  {
   "cell_type": "markdown",
   "metadata": {},
   "source": [
    "numpyとqulacsで比較する。"
   ]
  },
  {
   "cell_type": "code",
   "execution_count": 11,
   "metadata": {},
   "outputs": [
    {
     "name": "stdout",
     "output_type": "stream",
     "text": [
      "0.999819513782398\n"
     ]
    }
   ],
   "source": [
    "state =QuantumState(nqubit)\n",
    "\n",
    "#初期状態は特殊な状態を避けたいのでランダム状態にする\n",
    "state.set_Haar_random_state()\n",
    "\n",
    "copied_state = state.copy()\n",
    "\n",
    "#qulacsを使った計算\n",
    "dt = 0.01\n",
    "T = np.pi*random.random()\n",
    "rep = int(T/dt)\n",
    "\n",
    "\n",
    "circuit = ParametricQuantumCircuit(nqubit)\n",
    "\n",
    "#Trotter展開をする必要があるのでdtの時間発展をrep回繰り返すことになる\n",
    "for _ in range(rep):\n",
    "    circuit =  add_Trotterized_gates_from_observable(circuit,Ising_hamiltonian,dt)\n",
    "    \n",
    "circuit.update_quantum_state(state)\n",
    "#print(state)\n",
    "\n",
    "#numpy 経由の計算\n",
    "unitary = expm(-1.j*T*np_Ising_hami)\n",
    "qulacs_unitary = DenseMatrix([nqubit -1 - i for i in range(nqubit)],unitary)\n",
    "qulacs_unitary.update_quantum_state(copied_state)\n",
    "#print(copied_state)\n",
    "\n",
    "print(abs(inner_product(state,copied_state))**2)"
   ]
  },
  {
   "cell_type": "markdown",
   "metadata": {},
   "source": [
    "うまく言っているようなので5量子ビットくらいでテストしてみる"
   ]
  },
  {
   "cell_type": "code",
   "execution_count": 12,
   "metadata": {},
   "outputs": [
    {
     "name": "stdout",
     "output_type": "stream",
     "text": [
      "(1+0j) Z1 Z0\n",
      "(1+0j) Z2 Z0\n",
      "(-1+0j) Z2 Z1\n",
      "(-1+0j) Z3 Z0\n",
      "(-1+0j) Z3 Z1\n",
      "(1+0j) Z3 Z2\n",
      "(1+0j) Z4 Z0\n",
      "(1+0j) Z4 Z1\n",
      "(1+0j) Z4 Z2\n",
      "(-1+0j) Z4 Z3\n",
      "(1+0j) Z0\n",
      "(1+0j) Z1\n",
      "(1+0j) Z2\n",
      "(1+0j) Z3\n",
      "(1+0j) Z4\n",
      "(-1+0j) X0\n",
      "(1+0j) X1\n",
      "(1+0j) X2\n",
      "(-1+0j) X3\n",
      "(-1+0j) X4\n",
      "qulacs 0.005180835723876953\n",
      "numpy 0.0030858516693115234\n",
      "0.9998439401932244\n"
     ]
    }
   ],
   "source": [
    "nqubit = 5\n",
    "Ising_hamiltonian = Observable(nqubit)\n",
    "\n",
    "#ハミルトニアンの係数の設定\n",
    "ListOfInt = [[i,j] for i in range(nqubit) for j in range(i)]\n",
    "ListOfJij = np.array([(-1)**random.randint(0,1) for i in range(len(ListOfInt))])\n",
    "hz = np.array([(-1)**random.randint(0,1) for i in range(nqubit)])\n",
    "hx = np.array([(-1)**random.randint(0,1) for i in range(nqubit)])\n",
    "\n",
    "#print(ListOfJij)\n",
    "#print(hz)\n",
    "#print(hx)\n",
    "\n",
    "#qulacsでのハミルトニアンの定義\n",
    "Ising_hamiltonian = add_ZZ_interactions(Ising_hamiltonian,ListOfInt,ListOfJij)\n",
    "Ising_hamiltonian = add_Z_fields(Ising_hamiltonian,hz)\n",
    "Ising_hamiltonian = add_X_fields(Ising_hamiltonian,hx)\n",
    "show_observable(Ising_hamiltonian)\n",
    "\n",
    "#numpy でのハミルトニアンの定義\n",
    "define_OneQubitGate(nqubit)\n",
    "np_Ising_hami =  [[0 for i in range(2**nqubit)] for i in range(2**nqubit)]\n",
    "\n",
    "#イジング相互作用\n",
    "for i in range(len(ListOfInt)):\n",
    "    np_Ising_hami =  np_Ising_hami + ListOfJij[i]*np.dot(nZ[ListOfInt[i][0]],nZ[ListOfInt[i][1]])\n",
    "    \n",
    "#縦磁場と横磁場\n",
    "for i in range(nqubit):\n",
    "    np_Ising_hami =  np_Ising_hami +hz[i]*nZ[i]\n",
    "for i in range(nqubit):\n",
    "    np_Ising_hami =  np_Ising_hami +hx[i]*nX[i]\n",
    "\n",
    "state =QuantumState(nqubit)\n",
    "\n",
    "#初期状態は特殊な状態を避けたいのでランダム状態にする\n",
    "state.set_Haar_random_state()\n",
    "\n",
    "copied_state = state.copy()\n",
    "\n",
    "#qulacsを使った計算\n",
    "dt = 0.01\n",
    "T = np.pi*random.random()\n",
    "rep = int(T/dt)\n",
    "\n",
    "circuit = ParametricQuantumCircuit(nqubit)\n",
    "\n",
    "#Trotter展開をする必要があるのでdtの時間発展をrep回繰り返すことになる\n",
    "for _ in range(rep):\n",
    "    circuit =  add_Trotterized_gates_from_observable(circuit,Ising_hamiltonian,dt)\n",
    "\n",
    "st_time = time.time()\n",
    "circuit.update_quantum_state(state)\n",
    "#print(state)\n",
    "print(\"qulacs\",time.time()-st_time)\n",
    "\n",
    "#numpy 経由の計算\n",
    "st_time = time.time()\n",
    "\n",
    "unitary = expm(-1.j*T*np_Ising_hami)\n",
    "qulacs_unitary = DenseMatrix([nqubit -1 - i for i in range(nqubit)],unitary)\n",
    "qulacs_unitary.update_quantum_state(copied_state)\n",
    "#print(copied_state)\n",
    "\n",
    "print(\"numpy\",time.time()-st_time)\n",
    "\n",
    "print(abs(inner_product(state,copied_state))**2)"
   ]
  },
  {
   "cell_type": "markdown",
   "metadata": {},
   "source": [
    "5quibtくらいだと numpyで行列の指数関数計算したのとあまり計算時間はかわらない。"
   ]
  },
  {
   "cell_type": "code",
   "execution_count": 62,
   "metadata": {},
   "outputs": [
    {
     "name": "stdout",
     "output_type": "stream",
     "text": [
      "(-1+0j) Z1 Z0\n",
      "(-1+0j) Z2 Z0\n",
      "(-1+0j) Z2 Z1\n",
      "(-1+0j) Z3 Z0\n",
      "(-1+0j) Z3 Z1\n",
      "(1+0j) Z3 Z2\n",
      "(1+0j) Z4 Z0\n",
      "(1+0j) Z4 Z1\n",
      "(1+0j) Z4 Z2\n",
      "(-1+0j) Z4 Z3\n",
      "(1+0j) Z5 Z0\n",
      "(-1+0j) Z5 Z1\n",
      "(1+0j) Z5 Z2\n",
      "(1+0j) Z5 Z3\n",
      "(-1+0j) Z5 Z4\n",
      "(1+0j) Z6 Z0\n",
      "(1+0j) Z6 Z1\n",
      "(-1+0j) Z6 Z2\n",
      "(-1+0j) Z6 Z3\n",
      "(-1+0j) Z6 Z4\n",
      "(1+0j) Z6 Z5\n",
      "(1+0j) Z7 Z0\n",
      "(1+0j) Z7 Z1\n",
      "(-1+0j) Z7 Z2\n",
      "(1+0j) Z7 Z3\n",
      "(-1+0j) Z7 Z4\n",
      "(-1+0j) Z7 Z5\n",
      "(-1+0j) Z7 Z6\n",
      "(-1+0j) Z8 Z0\n",
      "(-1+0j) Z8 Z1\n",
      "(-1+0j) Z8 Z2\n",
      "(1+0j) Z8 Z3\n",
      "(-1+0j) Z8 Z4\n",
      "(1+0j) Z8 Z5\n",
      "(1+0j) Z8 Z6\n",
      "(1+0j) Z8 Z7\n",
      "(1+0j) Z9 Z0\n",
      "(1+0j) Z9 Z1\n",
      "(1+0j) Z9 Z2\n",
      "(1+0j) Z9 Z3\n",
      "(1+0j) Z9 Z4\n",
      "(-1+0j) Z9 Z5\n",
      "(1+0j) Z9 Z6\n",
      "(-1+0j) Z9 Z7\n",
      "(1+0j) Z9 Z8\n",
      "(1+0j) Z0\n",
      "(-1+0j) Z1\n",
      "(-1+0j) Z2\n",
      "(1+0j) Z3\n",
      "(1+0j) Z4\n",
      "(-1+0j) Z5\n",
      "(-1+0j) Z6\n",
      "(1+0j) Z7\n",
      "(-1+0j) Z8\n",
      "(-1+0j) Z9\n",
      "(1+0j) X0\n",
      "(-1+0j) X1\n",
      "(-1+0j) X2\n",
      "(1+0j) X3\n",
      "(-1+0j) X4\n",
      "(1+0j) X5\n",
      "(1+0j) X6\n",
      "(-1+0j) X7\n",
      "(-1+0j) X8\n",
      "(1+0j) X9\n",
      "qulacs 0.13643717765808105\n",
      "numpy 1.6088216304779053\n",
      "0.9963649552432076\n"
     ]
    }
   ],
   "source": [
    "nqubit = 10\n",
    "Ising_hamiltonian = Observable(nqubit)\n",
    "\n",
    "#ハミルトニアンの係数の設定\n",
    "ListOfInt = [[i,j] for i in range(nqubit) for j in range(i)]\n",
    "ListOfJij = np.array([(-1)**random.randint(0,1) for i in range(len(ListOfInt))])\n",
    "hz = np.array([(-1)**random.randint(0,1) for i in range(nqubit)])\n",
    "hx = np.array([(-1)**random.randint(0,1) for i in range(nqubit)])\n",
    "\n",
    "#print(ListOfJij)\n",
    "#print(hz)\n",
    "#print(hx)\n",
    "\n",
    "#qulacsでのハミルトニアンの定義\n",
    "Ising_hamiltonian = add_ZZ_interactions(Ising_hamiltonian,ListOfInt,ListOfJij)\n",
    "Ising_hamiltonian = add_Z_fields(Ising_hamiltonian,hz)\n",
    "Ising_hamiltonian = add_X_fields(Ising_hamiltonian,hx)\n",
    "show_observable(Ising_hamiltonian)\n",
    "\n",
    "#numpy でのハミルトニアンの定義\n",
    "define_OneQubitGate(nqubit)\n",
    "np_Ising_hami =  [[0 for i in range(2**nqubit)] for i in range(2**nqubit)]\n",
    "\n",
    "#イジング相互作用\n",
    "for i in range(len(ListOfInt)):\n",
    "    np_Ising_hami =  np_Ising_hami + ListOfJij[i]*np.dot(nZ[ListOfInt[i][0]],nZ[ListOfInt[i][1]])\n",
    "    \n",
    "#縦磁場と横磁場\n",
    "for i in range(nqubit):\n",
    "    np_Ising_hami =  np_Ising_hami +hz[i]*nZ[i]\n",
    "for i in range(nqubit):\n",
    "    np_Ising_hami =  np_Ising_hami +hx[i]*nX[i]\n",
    "\n",
    "state =QuantumState(nqubit)\n",
    "\n",
    "#初期状態は特殊な状態を避けたいのでランダム状態にする\n",
    "state.set_Haar_random_state()\n",
    "\n",
    "copied_state = state.copy()\n",
    "\n",
    "#qulacsを使った計算\n",
    "dt = 0.01\n",
    "T = np.pi*random.random()\n",
    "rep = int(T/dt)\n",
    "\n",
    "circuit = ParametricQuantumCircuit(nqubit)\n",
    "\n",
    "#Trotter展開をする必要があるのでdtの時間発展をrep回繰り返すことになる\n",
    "for _ in range(rep):\n",
    "    circuit =  add_Trotterized_gates_from_observable(circuit,Ising_hamiltonian,dt)\n",
    "\n",
    "st_time = time.time()\n",
    "circuit.update_quantum_state(state)\n",
    "#print(state)\n",
    "print(\"qulacs\",time.time()-st_time)\n",
    "\n",
    "#numpy 経由の計算\n",
    "st_time = time.time()\n",
    "\n",
    "unitary = expm(-1.j*T*np_Ising_hami)\n",
    "qulacs_unitary = DenseMatrix([nqubit -1 - i for i in range(nqubit)],unitary)\n",
    "qulacs_unitary.update_quantum_state(copied_state)\n",
    "#print(copied_state)\n",
    "\n",
    "print(\"numpy\",time.time()-st_time)\n",
    "\n",
    "print(abs(inner_product(state,copied_state))**2)"
   ]
  },
  {
   "cell_type": "markdown",
   "metadata": {},
   "source": [
    "10量子ビットになると流石にqulacsでトロッター展開の方が速そうだ。"
   ]
  },
  {
   "cell_type": "code",
   "execution_count": 13,
   "metadata": {},
   "outputs": [
    {
     "name": "stdout",
     "output_type": "stream",
     "text": [
      "(-1+0j) Z1 Z0\n",
      "(-1+0j) Z2 Z0\n",
      "(1+0j) Z2 Z1\n",
      "(1+0j) Z3 Z0\n",
      "(-1+0j) Z3 Z1\n",
      "(1+0j) Z3 Z2\n",
      "(-1+0j) Z4 Z0\n",
      "(1+0j) Z4 Z1\n",
      "(-1+0j) Z4 Z2\n",
      "(1+0j) Z4 Z3\n",
      "(-1+0j) Z5 Z0\n",
      "(1+0j) Z5 Z1\n",
      "(-1+0j) Z5 Z2\n",
      "(1+0j) Z5 Z3\n",
      "(1+0j) Z5 Z4\n",
      "(1+0j) Z6 Z0\n",
      "(1+0j) Z6 Z1\n",
      "(-1+0j) Z6 Z2\n",
      "(-1+0j) Z6 Z3\n",
      "(1+0j) Z6 Z4\n",
      "(1+0j) Z6 Z5\n",
      "(1+0j) Z7 Z0\n",
      "(1+0j) Z7 Z1\n",
      "(1+0j) Z7 Z2\n",
      "(1+0j) Z7 Z3\n",
      "(1+0j) Z7 Z4\n",
      "(-1+0j) Z7 Z5\n",
      "(-1+0j) Z7 Z6\n",
      "(1+0j) Z8 Z0\n",
      "(-1+0j) Z8 Z1\n",
      "(-1+0j) Z8 Z2\n",
      "(1+0j) Z8 Z3\n",
      "(1+0j) Z8 Z4\n",
      "(-1+0j) Z8 Z5\n",
      "(-1+0j) Z8 Z6\n",
      "(1+0j) Z8 Z7\n",
      "(1+0j) Z9 Z0\n",
      "(-1+0j) Z9 Z1\n",
      "(1+0j) Z9 Z2\n",
      "(-1+0j) Z9 Z3\n",
      "(-1+0j) Z9 Z4\n",
      "(1+0j) Z9 Z5\n",
      "(1+0j) Z9 Z6\n",
      "(1+0j) Z9 Z7\n",
      "(-1+0j) Z9 Z8\n",
      "(-1+0j) Z10 Z0\n",
      "(-1+0j) Z10 Z1\n",
      "(-1+0j) Z10 Z2\n",
      "(-1+0j) Z10 Z3\n",
      "(1+0j) Z10 Z4\n",
      "(1+0j) Z10 Z5\n",
      "(-1+0j) Z10 Z6\n",
      "(-1+0j) Z10 Z7\n",
      "(-1+0j) Z10 Z8\n",
      "(1+0j) Z10 Z9\n",
      "(1+0j) Z0\n",
      "(1+0j) Z1\n",
      "(1+0j) Z2\n",
      "(1+0j) Z3\n",
      "(-1+0j) Z4\n",
      "(1+0j) Z5\n",
      "(-1+0j) Z6\n",
      "(-1+0j) Z7\n",
      "(-1+0j) Z8\n",
      "(1+0j) Z9\n",
      "(1+0j) Z10\n",
      "(1+0j) X0\n",
      "(1+0j) X1\n",
      "(-1+0j) X2\n",
      "(-1+0j) X3\n",
      "(-1+0j) X4\n",
      "(1+0j) X5\n",
      "(-1+0j) X6\n",
      "(1+0j) X7\n",
      "(1+0j) X8\n",
      "(1+0j) X9\n",
      "(-1+0j) X10\n",
      "qulacs 0.3610198497772217\n",
      "numpy 12.56259799003601\n",
      "0.9933873260465224\n"
     ]
    }
   ],
   "source": [
    "nqubit = 11\n",
    "Ising_hamiltonian = Observable(nqubit)\n",
    "\n",
    "#ハミルトニアンの係数の設定\n",
    "ListOfInt = [[i,j] for i in range(nqubit) for j in range(i)]\n",
    "ListOfJij = np.array([(-1)**random.randint(0,1) for i in range(len(ListOfInt))])\n",
    "hz = np.array([(-1)**random.randint(0,1) for i in range(nqubit)])\n",
    "hx = np.array([(-1)**random.randint(0,1) for i in range(nqubit)])\n",
    "\n",
    "#print(ListOfJij)\n",
    "#print(hz)\n",
    "#print(hx)\n",
    "\n",
    "#qulacsでのハミルトニアンの定義\n",
    "Ising_hamiltonian = add_ZZ_interactions(Ising_hamiltonian,ListOfInt,ListOfJij)\n",
    "Ising_hamiltonian = add_Z_fields(Ising_hamiltonian,hz)\n",
    "Ising_hamiltonian = add_X_fields(Ising_hamiltonian,hx)\n",
    "show_observable(Ising_hamiltonian)\n",
    "\n",
    "#numpy でのハミルトニアンの定義\n",
    "define_OneQubitGate(nqubit)\n",
    "np_Ising_hami =  [[0 for i in range(2**nqubit)] for i in range(2**nqubit)]\n",
    "\n",
    "#イジング相互作用\n",
    "for i in range(len(ListOfInt)):\n",
    "    np_Ising_hami =  np_Ising_hami + ListOfJij[i]*np.dot(nZ[ListOfInt[i][0]],nZ[ListOfInt[i][1]])\n",
    "    \n",
    "#縦磁場と横磁場\n",
    "for i in range(nqubit):\n",
    "    np_Ising_hami =  np_Ising_hami +hz[i]*nZ[i]\n",
    "for i in range(nqubit):\n",
    "    np_Ising_hami =  np_Ising_hami +hx[i]*nX[i]\n",
    "\n",
    "state =QuantumState(nqubit)\n",
    "\n",
    "#初期状態は特殊な状態を避けたいのでランダム状態にする\n",
    "state.set_Haar_random_state()\n",
    "\n",
    "copied_state = state.copy()\n",
    "\n",
    "#qulacsを使った計算\n",
    "dt = 0.01\n",
    "T = np.pi*random.random()\n",
    "rep = int(T/dt)\n",
    "\n",
    "circuit = ParametricQuantumCircuit(nqubit)\n",
    "\n",
    "#Trotter展開をする必要があるのでdtの時間発展をrep回繰り返すことになる\n",
    "for _ in range(rep):\n",
    "    circuit =  add_Trotterized_gates_from_observable(circuit,Ising_hamiltonian,dt)\n",
    "\n",
    "st_time = time.time()\n",
    "circuit.update_quantum_state(state)\n",
    "#print(state)\n",
    "print(\"qulacs\",time.time()-st_time)\n",
    "\n",
    "#numpy 経由の計算\n",
    "st_time = time.time()\n",
    "\n",
    "unitary = expm(-1.j*T*np_Ising_hami)\n",
    "qulacs_unitary = DenseMatrix([nqubit -1 - i for i in range(nqubit)],unitary)\n",
    "qulacs_unitary.update_quantum_state(copied_state)\n",
    "#print(copied_state)\n",
    "\n",
    "print(\"numpy\",time.time()-st_time)\n",
    "\n",
    "print(abs(inner_product(state,copied_state))**2)"
   ]
  },
  {
   "cell_type": "code",
   "execution_count": null,
   "metadata": {},
   "outputs": [],
   "source": []
  }
 ],
 "metadata": {
  "kernelspec": {
   "display_name": "Python 3",
   "language": "python",
   "name": "python3"
  },
  "language_info": {
   "codemirror_mode": {
    "name": "ipython",
    "version": 3
   },
   "file_extension": ".py",
   "mimetype": "text/x-python",
   "name": "python",
   "nbconvert_exporter": "python",
   "pygments_lexer": "ipython3",
   "version": "3.7.4"
  }
 },
 "nbformat": 4,
 "nbformat_minor": 2
}
