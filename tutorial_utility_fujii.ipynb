{
 "cells": [
  {
   "cell_type": "code",
   "execution_count": 1,
   "metadata": {},
   "outputs": [],
   "source": [
    "from utility_fujii import *\n",
    "import time"
   ]
  },
  {
   "cell_type": "code",
   "execution_count": 2,
   "metadata": {},
   "outputs": [
    {
     "name": "stdout",
     "output_type": "stream",
     "text": [
      "(1+0j) Z0\n",
      "(1+0j) Z1\n",
      "(1+0j) Z2\n",
      "(1+0j) Z3\n",
      "(1+0j) Z4\n",
      "(1+0j) Z5\n",
      "(1+0j) Z6\n",
      "(1+0j) Z7\n",
      "(1+0j) Z8\n",
      "(1+0j) Z9\n"
     ]
    }
   ],
   "source": [
    "nqubits = 10\n",
    "state =QuantumState(nqubits)\n",
    "state.set_Haar_random_state()\n",
    "circuit =QuantumCircuit(nqubits)\n",
    "for i in range(nqubits):\n",
    "    circuit.add_gate(H(i))\n",
    "measurements = Observable(nqubits)\n",
    "measurements = define_Z_field(measurements)\n",
    "show_observable(measurements)"
   ]
  },
  {
   "cell_type": "code",
   "execution_count": 3,
   "metadata": {},
   "outputs": [
    {
     "data": {
      "text/plain": [
       "(-6.999999999999989+0j)"
      ]
     },
     "execution_count": 3,
     "metadata": {},
     "output_type": "execute_result"
    }
   ],
   "source": [
    "nqubits = 4\n",
    "ListOfInt = [[0,1],[1,2],[2,3],[3,0],[0,2]]\n",
    "state =QuantumState(nqubits)\n",
    "state.set_Haar_random_state()\n",
    "hamiltonian = Observable(nqubits)\n",
    "hamiltonian = define_Heisenberg_Hamiltonian(hamiltonian,ListOfInt)\n",
    "#show_observable(hamiltonian)\n",
    "hamiltonian.solve_ground_state_eigenvalue_by_arnoldi_method(state,10)"
   ]
  },
  {
   "cell_type": "code",
   "execution_count": 4,
   "metadata": {},
   "outputs": [
    {
     "data": {
      "text/plain": [
       "-6.999999999999999"
      ]
     },
     "execution_count": 4,
     "metadata": {},
     "output_type": "execute_result"
    }
   ],
   "source": [
    "hamiltonian.get_expectation_value(state)"
   ]
  },
  {
   "cell_type": "code",
   "execution_count": 18,
   "metadata": {},
   "outputs": [
    {
     "data": {
      "text/plain": [
       "(-14.726160522887128+0j)"
      ]
     },
     "execution_count": 18,
     "metadata": {},
     "output_type": "execute_result"
    }
   ],
   "source": [
    "nqubits = 8\n",
    "ListOfInt = [[0,1],[2,3],[4,5],[6,7],[0,2],[2,4],[4,6],[1,3],[3,5],[5,7],[0,3],[2,5],[4,7]]\n",
    "state =QuantumState(nqubits)\n",
    "state.set_Haar_random_state()\n",
    "hamiltonian = Observable(nqubits)\n",
    "hamiltonian = define_Heisenberg_Hamiltonian(hamiltonian,ListOfInt)\n",
    "#show_observable(hamiltonian)\n",
    "hamiltonian.solve_ground_state_eigenvalue_by_arnoldi_method(state,100)"
   ]
  },
  {
   "cell_type": "code",
   "execution_count": 3,
   "metadata": {},
   "outputs": [
    {
     "name": "stdout",
     "output_type": "stream",
     "text": [
      "(-21.779500867790247+0j)\n",
      "(-21.77950086789336+0j)\n",
      "(-21.779500867887805+0j)\n",
      "(-21.779500867888075+0j)\n",
      "(-21.779500867887762+0j)\n"
     ]
    }
   ],
   "source": [
    "nqubits = 12\n",
    "ListOfInt =  [[2,3],[3,4],[4,5],[5,2],[8,9],[9,10],[10,11],[11,8],[0,3],[0,4],[0,8],[0,9],[1,5],[1,2],[1,10],[1,11],[6,2],[6,3],[6,9],[6,10],[7,4],[7,5],[7,11],[7,8]]\n",
    "state =QuantumState(nqubits)\n",
    "\n",
    "hamiltonian = Observable(nqubits)\n",
    "hamiltonian = define_Heisenberg_Hamiltonian(hamiltonian,ListOfInt)\n",
    "#show_observable(hamiltonian)\n",
    "\n",
    "itr = 50\n",
    "state.set_Haar_random_state()\n",
    "print(hamiltonian.solve_ground_state_eigenvalue_by_arnoldi_method(state,10+itr))\n",
    "state.set_Haar_random_state()\n",
    "print(hamiltonian.solve_ground_state_eigenvalue_by_arnoldi_method(state,20+itr))\n",
    "state.set_Haar_random_state()\n",
    "print(hamiltonian.solve_ground_state_eigenvalue_by_arnoldi_method(state,30+itr))\n",
    "state.set_Haar_random_state()\n",
    "print(hamiltonian.solve_ground_state_eigenvalue_by_arnoldi_method(state,40+itr))\n",
    "state.set_Haar_random_state()\n",
    "print(hamiltonian.solve_ground_state_eigenvalue_by_arnoldi_method(state,50+itr))\n"
   ]
  },
  {
   "cell_type": "code",
   "execution_count": 4,
   "metadata": {},
   "outputs": [
    {
     "data": {
      "text/plain": [
       "-21.77950086788742"
      ]
     },
     "execution_count": 4,
     "metadata": {},
     "output_type": "execute_result"
    }
   ],
   "source": [
    "hamiltonian.get_expectation_value(state)"
   ]
  },
  {
   "cell_type": "code",
   "execution_count": 5,
   "metadata": {},
   "outputs": [],
   "source": [
    "state_vec = state.get_vector()\n",
    "state_prod = np.kron(state_vec, state_vec)\n",
    "state = QuantumState(24)\n",
    "state.load(state_prod)"
   ]
  },
  {
   "cell_type": "code",
   "execution_count": 2,
   "metadata": {},
   "outputs": [],
   "source": [
    "nqubits = 24\n",
    "state = QuantumState(nqubits)\n",
    "hamiltonian = Observable(nqubits)\n",
    "interactions=[[2,3],[3,4],[4,5],[5,2],[8,9],[9,10],[10,11],[11,8],[0,3],[0,4],[0,8],[0,9],[1,5],[1,2],[1,10],[1,11],[6,2],[6,3],[6,9],[6,10],[7,4],[7,5],[7,11],[7,8]]\n",
    "ListOfInt=[]\n",
    "for pair in interactions:\n",
    "    ListOfInt.append(pair)\n",
    "    ListOfInt.append([pair[0]+12,pair[1]+12])\n",
    "ListOfInt.append([6,12])\n",
    "hamiltonian = define_Heisenberg_Hamiltonian(hamiltonian,ListOfInt)"
   ]
  },
  {
   "cell_type": "code",
   "execution_count": 4,
   "metadata": {},
   "outputs": [
    {
     "name": "stdout",
     "output_type": "stream",
     "text": [
      "92.54104590415955\n"
     ]
    }
   ],
   "source": [
    "start = time.time() \n",
    "state.set_Haar_random_state()\n",
    "hamiltonian.solve_ground_state_eigenvalue_by_power_method(state,5)\n",
    "print(time.time()-start)"
   ]
  },
  {
   "cell_type": "code",
   "execution_count": 4,
   "metadata": {},
   "outputs": [
    {
     "data": {
      "text/plain": [
       "0.004105757175181783"
      ]
     },
     "execution_count": 4,
     "metadata": {},
     "output_type": "execute_result"
    }
   ],
   "source": [
    "state.set_Haar_random_state()\n",
    "hamiltonian.get_expectation_value(state)"
   ]
  },
  {
   "cell_type": "code",
   "execution_count": 4,
   "metadata": {},
   "outputs": [
    {
     "name": "stdout",
     "output_type": "stream",
     "text": [
      "(-41.55750624325708+0j)\n"
     ]
    }
   ],
   "source": [
    "itr = 10\n",
    "print(hamiltonian.solve_ground_state_eigenvalue_by_arnoldi_method(state,itr))"
   ]
  },
  {
   "cell_type": "code",
   "execution_count": null,
   "metadata": {},
   "outputs": [],
   "source": [
    "itr = 50\n",
    "print(hamiltonian.solve_ground_state_eigenvalue_by_arnoldi_method(state,itr))"
   ]
  },
  {
   "cell_type": "code",
   "execution_count": 28,
   "metadata": {},
   "outputs": [
    {
     "name": "stdout",
     "output_type": "stream",
     "text": [
      "(-44.00526563535024+0j)\n"
     ]
    }
   ],
   "source": [
    "itr = 10\n",
    "print(hamiltonian.solve_ground_state_eigenvalue_by_arnoldi_method(state,itr))"
   ]
  },
  {
   "cell_type": "code",
   "execution_count": 33,
   "metadata": {},
   "outputs": [
    {
     "name": "stdout",
     "output_type": "stream",
     "text": [
      "1.6360840797424316\n"
     ]
    }
   ],
   "source": [
    "start = time.time()\n",
    "state.set_zero_state()\n",
    "circuit.update_quantum_state(state)\n",
    "circuit.update_quantum_state(state)\n",
    "measurements.get_expectation_value(state)\n",
    "print(time.time()-start)"
   ]
  },
  {
   "cell_type": "code",
   "execution_count": 42,
   "metadata": {},
   "outputs": [
    {
     "name": "stdout",
     "output_type": "stream",
     "text": [
      "0.13055109977722168\n"
     ]
    }
   ],
   "source": [
    "from qulacs import Causal\n",
    "nqubits = 1000\n",
    "\n",
    "circuit =QuantumCircuit(nqubits)\n",
    "for i in range(nqubits):\n",
    "    circuit.add_gate(H(i))\n",
    "measurements = Observable(nqubits)\n",
    "measurements = define_Z_field(measurements)\n",
    "\n",
    "simulator = Causal()\n",
    "start = time.time()\n",
    "simulator.CausalCone(circuit,measurements)\n",
    "print(time.time()-start)"
   ]
  },
  {
   "cell_type": "code",
   "execution_count": 3,
   "metadata": {},
   "outputs": [
    {
     "data": {
      "image/png": "[encoded data removed]",
      "text/plain": [
       "<Figure size 432x288 with 1 Axes>"
      ]
     },
     "metadata": {
      "needs_background": "light"
     },
     "output_type": "display_data"
    }
   ],
   "source": [
    "circuit.update_quantum_state(state)\n",
    "show_distribution(state,nqubits)"
   ]
  },
  {
   "cell_type": "code",
   "execution_count": 4,
   "metadata": {},
   "outputs": [
    {
     "name": "stdout",
     "output_type": "stream",
     "text": [
      "<re.Match object; span=(6, 7), match='0'>\n"
     ]
    }
   ],
   "source": [
    "qasm_to_qulacs_fromfile(\"./qasm_sample.txt\",circuit)"
   ]
  },
  {
   "cell_type": "code",
   "execution_count": 5,
   "metadata": {},
   "outputs": [
    {
     "name": "stdout",
     "output_type": "stream",
     "text": [
      "*** Quantum Circuit Info ***\n",
      "# of qubit: 5\n",
      "# of step : 61\n",
      "# of gate : 208\n",
      "# of 1 qubit gate: 181\n",
      "# of 2 qubit gate: 27\n",
      "Clifford  : no\n",
      "Gaussian  : no\n",
      "\n",
      "\n"
     ]
    }
   ],
   "source": [
    "print(circuit)"
   ]
  },
  {
   "cell_type": "code",
   "execution_count": 5,
   "metadata": {},
   "outputs": [
    {
     "data": {
      "text/plain": [
       "2.0"
      ]
     },
     "execution_count": 5,
     "metadata": {},
     "output_type": "execute_result"
    }
   ],
   "source": [
    "nqubits =3\n",
    "state =QuantumState(nqubits)\n",
    "hamiltonian.get_expectation_value(state)"
   ]
  },
  {
   "cell_type": "code",
   "execution_count": null,
   "metadata": {},
   "outputs": [],
   "source": []
  },
  {
   "cell_type": "code",
   "execution_count": 6,
   "metadata": {},
   "outputs": [
    {
     "name": "stdout",
     "output_type": "stream",
     "text": [
      "(1+0j) Z0 Z1\n",
      "(1+0j) X0 X1\n",
      "(1+0j) Y0 Y1\n",
      "(1+0j) Z1 Z2\n",
      "(1+0j) X1 X2\n",
      "(1+0j) Y1 Y2\n"
     ]
    }
   ],
   "source": [
    "show_observable(hamiltonian)"
   ]
  },
  {
   "cell_type": "code",
   "execution_count": 6,
   "metadata": {},
   "outputs": [],
   "source": [
    "hamiltonian = define_Ising_Hamiltonian(3,[[0,1,0.3],[1,2,-1.5]])"
   ]
  },
  {
   "cell_type": "code",
   "execution_count": 8,
   "metadata": {},
   "outputs": [
    {
     "name": "stdout",
     "output_type": "stream",
     "text": [
      "(0.3+0j) Z0 Z1\n",
      "(-1.5+0j) Z1 Z2\n"
     ]
    }
   ],
   "source": [
    "show_observable(hamiltonian)"
   ]
  },
  {
   "cell_type": "code",
   "execution_count": 2,
   "metadata": {
    "scrolled": true
   },
   "outputs": [
    {
     "data": {
      "text/plain": [
       " *** gate info *** \n",
       " * gate name : DenseMatrix\n",
       " * target    : \n",
       " 0 : commute       \n",
       " * control   : \n",
       " * Pauli     : no\n",
       " * Clifford  : no\n",
       " * Gaussian  : no\n",
       " * Parametric: no\n",
       " * Diagonal  : no\n",
       " * Matrix\n",
       "   (0.995047,-0.0953415)  (-0.00242452,-0.039656)\n",
       "(-0.00121616,-0.0198918)     (0.99925,-0.0265873)"
      ]
     },
     "execution_count": 2,
     "metadata": {},
     "output_type": "execute_result"
    }
   ],
   "source": [
    "parametrix_dense_exp_gate([0],[[random.random() for i in range(2)] for j in range(2)],0.1)"
   ]
  },
  {
   "cell_type": "code",
   "execution_count": null,
   "metadata": {},
   "outputs": [],
   "source": []
  },
  {
   "cell_type": "code",
   "execution_count": 3,
   "metadata": {},
   "outputs": [
    {
     "name": "stdout",
     "output_type": "stream",
     "text": [
      "(1+0j) Z0 Z1\n",
      "(1+0j) X0 X1\n",
      "(1+0j) Y0 Y1\n",
      "(1+0j) Z1 Z2\n",
      "(1+0j) X1 X2\n",
      "(1+0j) Y1 Y2\n",
      "(1+0j) Z2 Z0\n",
      "(1+0j) X2 X0\n",
      "(1+0j) Y2 Y0\n",
      "(1+0j) Z0\n",
      "(1+0j) Z1\n",
      "(1+0j) Z2\n"
     ]
    }
   ],
   "source": [
    "from utility_fujii import *\n",
    "nqubits = 3\n",
    "hamiltonian = Observable(nqubits)\n",
    "hamiltonian = define_Heisenberg_Hamiltonian(hamiltonian,[[0,1],[1,2],[2,0]])\n",
    "show_observable(hamiltonian)\n",
    "driver = Observable(nqubits)\n",
    "\n",
    "driver = define_Z_field(driver)\n",
    "show_observable(driver)"
   ]
  },
  {
   "cell_type": "code",
   "execution_count": 8,
   "metadata": {},
   "outputs": [
    {
     "name": "stdout",
     "output_type": "stream",
     "text": [
      "*** Quantum Circuit Info ***\n",
      "# of qubit: 3\n",
      "# of step : 1\n",
      "# of gate : 3\n",
      "# of 1 qubit gate: 3\n",
      "Clifford  : no\n",
      "Gaussian  : no\n",
      "\n",
      "*** Parameter Info ***\n",
      "# of parameter: 3\n",
      "\n"
     ]
    }
   ],
   "source": [
    "circuit = ParametricQuantumCircuit(nqubits)\n",
    "circuit = add_parametric_gate_from_observable(driver,circuit)\n",
    "print(circuit)"
   ]
  },
  {
   "cell_type": "code",
   "execution_count": 2,
   "metadata": {},
   "outputs": [],
   "source": [
    "max_depth =2\n",
    "ansatz_circuit = hamiltonian_ansatz(hamiltonian,driver,max_depth)\n",
    "\n",
    "def cost(para):\n",
    "    return cost_func_ansatz(ansatz_circuit,hamiltonian,para)"
   ]
  },
  {
   "cell_type": "code",
   "execution_count": 3,
   "metadata": {},
   "outputs": [
    {
     "data": {
      "image/png": "[encoded data removed]",
      "text/plain": [
       "<Figure size 432x288 with 1 Axes>"
      ]
     },
     "metadata": {
      "needs_background": "light"
     },
     "output_type": "display_data"
    }
   ],
   "source": [
    "cost_history = []\n",
    "init_theta_list = [random.random() for i in range(ansatz_circuit.get_parameter_count())]\n",
    "cost_history.append(cost(init_theta_list))\n",
    "method = \"BFGS\"\n",
    "options = {\"disp\": True, \"maxiter\": 50, \"gtol\": 1e-6}\n",
    "\n",
    "opt = scipy.optimize.minimize(cost, init_theta_list,\n",
    "               method=method,\n",
    "               callback=lambda x: cost_history.append(cost(x)))\n",
    "\n",
    "plt.rcParams[\"font.size\"] = 18\n",
    "plt.plot(cost_history, color=\"red\", label=\"VQE\")\n",
    "plt.xlabel(\"Iteration\")\n",
    "plt.ylabel(\"Energy expectation value\")\n",
    "plt.legend()\n",
    "plt.show()"
   ]
  },
  {
   "cell_type": "code",
   "execution_count": null,
   "metadata": {},
   "outputs": [],
   "source": [
    "nqubits = 10\n"
   ]
  }
 ],
 "metadata": {
  "kernelspec": {
   "display_name": "Python 3",
   "language": "python",
   "name": "python3"
  },
  "language_info": {
   "codemirror_mode": {
    "name": "ipython",
    "version": 3
   },
   "file_extension": ".py",
   "mimetype": "text/x-python",
   "name": "python",
   "nbconvert_exporter": "python",
   "pygments_lexer": "ipython3",
   "version": "3.7.4"
  }
 },
 "nbformat": 4,
 "nbformat_minor": 2
}
