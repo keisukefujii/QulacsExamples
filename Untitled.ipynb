{
 "cells": [
  {
   "cell_type": "code",
   "execution_count": 2,
   "metadata": {},
   "outputs": [],
   "source": [
    "import matplotlib.pyplot as plt\n",
    "from scipy.fftpack import fft\n",
    "import numpy as np\n",
    "import time \n",
    "import random\n",
    "from qulacs import QuantumState\n",
    "from qulacs import QuantumCircuit\n",
    "from qulacs.gate import DenseMatrix\n",
    "from qulacs.circuit import QuantumCircuitOptimizer\n",
    "from qulacs import QuantumState\n",
    "from qulacs.gate import Identity, X,Y,Z #パウリ演算子\n",
    "from qulacs.gate import H,S,Sdag, sqrtX,sqrtXdag,sqrtY,sqrtYdag #1量子ビット Clifford演算\n",
    "from qulacs.gate import T,Tdag #1量子ビット 非Clifford演算\n",
    "from qulacs.gate import RX,RY,RZ #パウリ演算子についての回転演算\n",
    "from qulacs.gate import CNOT, CZ, SWAP #2量子ビット演算\n",
    "from qulacs import Observable"
   ]
  },
  {
   "cell_type": "code",
   "execution_count": 3,
   "metadata": {},
   "outputs": [],
   "source": [
    "def random_quantum_circuit(nqubits,depth):\n",
    "    circuit =QuantumCircuit(nqubits)\n",
    "    for _ in range(depth):\n",
    "        \n",
    "        for i in range(nqubits):\n",
    "            circuit.add_gate(RX(i,np.pi*np.random.random()))\n",
    "            circuit.add_gate(RZ(i,np.pi*np.random.random()))\n",
    "            circuit.add_gate(RX(i,np.pi*np.random.random()))\n",
    "\n",
    "        for i in range(nqubits-1):\n",
    "            circuit.add_gate(CNOT(i,i+1))\n",
    "    return circuit"
   ]
  },
  {
   "cell_type": "code",
   "execution_count": 6,
   "metadata": {},
   "outputs": [
    {
     "name": "stdout",
     "output_type": "stream",
     "text": [
      "time 1.443950891494751 sec\n",
      "time 3.0157182216644287 sec\n",
      "time 7.022552967071533 sec\n",
      "time 17.26494288444519 sec\n"
     ]
    }
   ],
   "source": [
    "for nqubits in range(20,24):\n",
    "    start_time = time.time()\n",
    "    state = QuantumState(nqubits)\n",
    "    circuit = random_quantum_circuit(nqubits,nqubits)\n",
    "    \n",
    "    circuit.update_quantum_state(state)\n",
    "    res = state.sampling(1000)\n",
    "    print(\"time\",time.time()-start_time,\"sec\")"
   ]
  },
  {
   "cell_type": "code",
   "execution_count": 12,
   "metadata": {},
   "outputs": [
    {
     "name": "stdout",
     "output_type": "stream",
     "text": [
      "qubits 20 time 1.2118029594421387 sec\n",
      "qubits 21 time 2.4331719875335693 sec\n",
      "qubits 22 time 4.73524808883667 sec\n",
      "qubits 23 time 10.134254217147827 sec\n",
      "qubits 24 time 20.959888219833374 sec\n",
      "qubits 25 time 47.77136492729187 sec\n",
      "qubits 26 time 122.07179594039917 sec\n"
     ]
    }
   ],
   "source": [
    "for nqubits in range(20,27):\n",
    "    start_time = time.time()\n",
    "    state = QuantumState(nqubits)\n",
    "    circuit = random_quantum_circuit(nqubits,nqubits)\n",
    "    # 最適化\n",
    "    opt = QuantumCircuitOptimizer()\n",
    "    # 作成を許す最大の量子ゲートのサイズ\n",
    "    max_block_size = 2\n",
    "    opt.optimize(circuit, max_block_size)\n",
    "    circuit.update_quantum_state(state)\n",
    "    res = state.sampling(1000)\n",
    "    print(\"qubits\",nqubits,\"time\",time.time()-start_time,\"sec\")"
   ]
  },
  {
   "cell_type": "code",
   "execution_count": null,
   "metadata": {},
   "outputs": [],
   "source": []
  }
 ],
 "metadata": {
  "kernelspec": {
   "display_name": "Python 3",
   "language": "python",
   "name": "python3"
  },
  "language_info": {
   "codemirror_mode": {
    "name": "ipython",
    "version": 3
   },
   "file_extension": ".py",
   "mimetype": "text/x-python",
   "name": "python",
   "nbconvert_exporter": "python",
   "pygments_lexer": "ipython3",
   "version": "3.7.4"
  }
 },
 "nbformat": 4,
 "nbformat_minor": 2
}
