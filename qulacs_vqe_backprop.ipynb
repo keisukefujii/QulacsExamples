{
 "cells": [
  {
   "cell_type": "code",
   "execution_count": 5,
   "metadata": {},
   "outputs": [],
   "source": [
    "import matplotlib.pyplot as plt\n",
    "import numpy as np\n",
    "import time \n",
    "import random\n",
    "import math\n",
    "import tqdm\n",
    "from qulacs import PauliOperator, Observable, QuantumState\n",
    "#GPU版をインストールしている場合のみ\n",
    "#from qulacs import QuantumStateGpu\n",
    "from qulacs import QuantumCircuit\n",
    "from qulacs.gate import DenseMatrix\n",
    "from qulacs.circuit import QuantumCircuitOptimizer\n",
    "from qulacs.state import inner_product\n",
    "from qulacs.gate import *\n",
    "from qulacs import ParametricQuantumCircuit"
   ]
  },
  {
   "cell_type": "code",
   "execution_count": 6,
   "metadata": {},
   "outputs": [],
   "source": [
    "import scipy.optimize\n",
    "\n",
    "def define_Heisenberg_Hamiltonian(operator,ListOfInt):\n",
    "    nqubits = operator.get_qubit_count()\n",
    "    for k in range(len(ListOfInt)):\n",
    "        operator.add_operator(1.0,\"Z {0}\".format(ListOfInt[k][0])+\"Z {0}\".format(ListOfInt[k][1]))\n",
    "        operator.add_operator(1.0,\"X {0}\".format(ListOfInt[k][0])+\"X {0}\".format(ListOfInt[k][1])) \n",
    "        operator.add_operator(1.0,\"Y {0}\".format(ListOfInt[k][0])+\"Y {0}\".format(ListOfInt[k][1])) \n",
    "    return operator\n",
    "\n",
    "def define_Z_field(operator):\n",
    "    nqubits = operator.get_qubit_count()\n",
    "    for k in range(nqubits):\n",
    "        operator.add_operator(1.0,\"Z {0}\".format(k)) \n",
    "    return operator\n",
    "\n",
    "\n",
    "def hamiltonian_ansatz(hamiltonian,driver,max_depth):\n",
    "    i=0\n",
    "\n",
    "    nqubits = hamiltonian.get_qubit_count()\n",
    "    ansatz_circuit =ParametricQuantumCircuit(nqubits)\n",
    "\n",
    "\n",
    "    for depth in range(max_depth):\n",
    "        for j in range(hamiltonian.get_term_count()):\n",
    "            pauli = hamiltonian.get_term(j)\n",
    "\n",
    "            # Get the subscript of each pauli symbol\n",
    "            index_list = pauli.get_index_list()\n",
    "\n",
    "            # Get pauli symbols (I,X,Y,Z -> 0,1,2,3)\n",
    "            pauli_id_list = pauli.get_pauli_id_list()\n",
    "\n",
    "            ansatz_circuit.add_parametric_multi_Pauli_rotation_gate(index_list, pauli_id_list, 0.0)\n",
    "            i+=1\n",
    "\n",
    "        for j in range(driver.get_term_count()):\n",
    "            pauli = driver.get_term(j)\n",
    "\n",
    "            # Get the subscript of each pauli symbol\n",
    "            index_list = pauli.get_index_list()\n",
    "            # Get pauli symbols (I,X,Y,Z -> 0,1,2,3)\n",
    "            pauli_id_list = pauli.get_pauli_id_list()\n",
    "\n",
    "            ansatz_circuit.add_parametric_multi_Pauli_rotation_gate(index_list, pauli_id_list, 0.0)\n",
    "            i+=1    \n",
    " #   print(ansatz_circuit.get_parameter_count())\n",
    "#    print(ansatz_circuit)\n",
    "    return ansatz_circuit\n",
    "\n",
    "def cost_func_ansatz(ansatz_circuit,hamiltonian,para):\n",
    "    nqubits = ansatz_circuit.get_qubit_count()\n",
    "    state = QuantumState(nqubits)\n",
    "\n",
    "    parameter_count = ansatz_circuit.get_parameter_count()\n",
    "\n",
    "\n",
    "\n",
    "    for i in range(parameter_count):\n",
    "        ansatz_circuit.set_parameter(i,para[i])\n",
    "        \n",
    "    ansatz_circuit.update_quantum_state(state)\n",
    "\n",
    "    return  hamiltonian.get_expectation_value(state)\n",
    "\n",
    "\n",
    "def open_square_Heisenberg_anti_ferro(length):\n",
    "    nqubits = length**2\n",
    "    \n",
    "    vertical = [[i,(i+1)%length] for i in range(length-1)]\n",
    "    horizontal = [[(i%length)*length,((i+1)%length)*length] for i in range(length-1)]\n",
    "\n",
    "    ListOfInt = []\n",
    "    for pair in vertical:\n",
    "        for i in range(length):\n",
    "            ListOfInt.append([pair[0]+i*length,pair[1]+i*length])\n",
    "\n",
    "    for pair in horizontal:\n",
    "        for i in range(length):\n",
    "            ListOfInt.append([pair[0]+i,pair[1]+i])\n",
    "\n",
    "#    print(ListOfInt)\n",
    "    \n",
    "    hamiltonian = Observable(nqubits)\n",
    "    hamiltonian = define_Heisenberg_Hamiltonian(hamiltonian,ListOfInt)\n",
    "\n",
    "    return hamiltonian\n",
    "\n",
    "\n"
   ]
  },
  {
   "cell_type": "markdown",
   "metadata": {},
   "source": [
    "# qulacsのbackpropを用いたVQEの実装例\n",
    "- 正方格子ハイゼンベルク模型\n",
    "- ハンザッツはハミルトニアンから構成（QAOA的な）\n",
    "- scipy.optimizeのBFGSで、勾配をbackpropで与えた場合とそうでない場合で比較"
   ]
  },
  {
   "cell_type": "code",
   "execution_count": 52,
   "metadata": {},
   "outputs": [],
   "source": [
    "max_depth =5\n",
    "length = 3\n",
    "nqubits = length**2\n",
    "hamiltonian = open_square_Heisenberg_anti_ferro(length)\n",
    "driver = Observable(nqubits)\n",
    "for i in range(nqubits):\n",
    "    driver.add_operator(1.0,f\"X {i}\")\n",
    "    driver.add_operator(1.0,f\"Z {i}\")\n",
    "\n",
    "ansatz_circuit = hamiltonian_ansatz(hamiltonian,driver,max_depth)\n",
    "num_paras = ansatz_circuit.get_parameter_count()\n",
    "\n",
    "def cost(para):\n",
    "    return cost_func_ansatz(ansatz_circuit,hamiltonian,para)\n",
    "\n",
    "def get_gradient(cost,parameters):\n",
    "    num_paras = len(parameters)\n",
    "    epsilon = 1e-6\n",
    "    \n",
    "\n",
    "    gradient = np.array([0.0 for i in range(num_paras)])\n",
    "    cost_val = cost(parameters) \n",
    "\n",
    "    #MPI並列化したいループ\n",
    "    for j in range(num_paras):\n",
    "\n",
    "        tmp = parameters[j]  \n",
    "\n",
    "        parameters[j] = tmp + epsilon  \n",
    "        plus_epsilon = cost(parameters)\n",
    "\n",
    "        gradient[j] = (plus_epsilon - cost_val) / ( epsilon)\n",
    "        parameters[j] = tmp  \n",
    "        #MPI並列化したいループ終わり\n",
    "    return gradient\n",
    "\n",
    "def grad(para):\n",
    "    return get_gradient(cost,np.array(para))\n",
    "\n",
    "def grad_backprop(para):\n",
    "    parameter_count = ansatz_circuit.get_parameter_count()\n",
    "    for i in range(parameter_count):\n",
    "        ansatz_circuit.set_parameter(i,para[i])\n",
    "        \n",
    "    return     ansatz_circuit.backprop(hamiltonian)\n"
   ]
  },
  {
   "cell_type": "markdown",
   "metadata": {},
   "source": [
    "scipyで最適化（勾配はoptimizeでおそらく数値微分）"
   ]
  },
  {
   "cell_type": "code",
   "execution_count": 58,
   "metadata": {},
   "outputs": [
    {
     "name": "stdout",
     "output_type": "stream",
     "text": [
      "Warning: Maximum number of iterations has been exceeded.\n",
      "         Current function value: -18.851852\n",
      "         Iterations: 200\n",
      "         Function evaluations: 55013\n",
      "         Gradient evaluations: 203\n",
      "time 117.67649412155151 sec\n"
     ]
    },
    {
     "data": {
      "image/png": "[encoded data removed]",
      "text/plain": [
       "<Figure size 432x288 with 1 Axes>"
      ]
     },
     "metadata": {
      "needs_background": "light"
     },
     "output_type": "display_data"
    }
   ],
   "source": [
    "cost_history = []\n",
    "init_theta_list = [random.random() for i in range(ansatz_circuit.get_parameter_count())]\n",
    "cost_history.append(cost(init_theta_list))\n",
    "method = \"BFGS\"\n",
    "options = {\"disp\": True, \"maxiter\": 200, \"gtol\": 1e-3}\n",
    "\n",
    "st_time = time.time()\n",
    "opt = scipy.optimize.minimize(cost, init_theta_list,\n",
    "               method=method,\n",
    "               callback=lambda x: cost_history.append(cost(x)),options = options)\n",
    "print(\"time\",time.time()-st_time,\"sec\")\n",
    "\n",
    "plt.rcParams[\"font.size\"] = 18\n",
    "plt.plot(cost_history, color=\"red\", label=\"VQE\")\n",
    "plt.xlabel(\"Iteration\")\n",
    "plt.ylabel(\"Energy expectation value\")\n",
    "plt.legend()\n",
    "plt.show()"
   ]
  },
  {
   "cell_type": "code",
   "execution_count": 57,
   "metadata": {},
   "outputs": [
    {
     "name": "stdout",
     "output_type": "stream",
     "text": [
      "Warning: Maximum number of iterations has been exceeded.\n",
      "         Current function value: -18.723228\n",
      "         Iterations: 200\n",
      "         Function evaluations: 201\n",
      "         Gradient evaluations: 201\n",
      "time 7.93417501449585 sec\n"
     ]
    },
    {
     "data": {
      "image/png": "[encoded data removed]",
      "text/plain": [
       "<Figure size 432x288 with 1 Axes>"
      ]
     },
     "metadata": {
      "needs_background": "light"
     },
     "output_type": "display_data"
    }
   ],
   "source": [
    "cost_history = []\n",
    "init_theta_list = [random.random() for i in range(ansatz_circuit.get_parameter_count())]\n",
    "cost_history.append(cost(init_theta_list))\n",
    "method = \"BFGS\"\n",
    "options = {\"disp\": True, \"maxiter\": 200, \"gtol\": 1e-3}\n",
    "\n",
    "st_time = time.time()\n",
    "opt = scipy.optimize.minimize(cost, init_theta_list,jac = grad_backprop,\n",
    "               method=method,\n",
    "               callback=lambda x: cost_history.append(cost(x)),options = options)\n",
    "print(\"time\",time.time()-st_time,\"sec\")\n",
    "\n",
    "plt.rcParams[\"font.size\"] = 18\n",
    "plt.plot(cost_history, color=\"red\", label=\"VQE\")\n",
    "plt.xlabel(\"Iteration\")\n",
    "plt.ylabel(\"Energy expectation value\")\n",
    "plt.legend()\n",
    "plt.show()"
   ]
  },
  {
   "cell_type": "code",
   "execution_count": 47,
   "metadata": {},
   "outputs": [
    {
     "data": {
      "text/plain": [
       "-18.982808076342693"
      ]
     },
     "execution_count": 47,
     "metadata": {},
     "output_type": "execute_result"
    }
   ],
   "source": [
    "opt.fun"
   ]
  },
  {
   "cell_type": "markdown",
   "metadata": {},
   "source": [
    "qulacsに搭載されているランチョス法で答えを確認"
   ]
  },
  {
   "cell_type": "code",
   "execution_count": 48,
   "metadata": {},
   "outputs": [
    {
     "data": {
      "text/plain": [
       "(-18.99730903421144+0j)"
      ]
     },
     "execution_count": 48,
     "metadata": {},
     "output_type": "execute_result"
    }
   ],
   "source": [
    "state = QuantumState(length**2)\n",
    "state.set_Haar_random_state()\n",
    "hamiltonian.solve_ground_state_eigenvalue_by_lanczos_method(state,50)"
   ]
  },
  {
   "cell_type": "markdown",
   "metadata": {},
   "source": [
    "もう少しパラメータが多い系で、pythonのforでgradを計算した場合と、backpropを比較"
   ]
  },
  {
   "cell_type": "code",
   "execution_count": 59,
   "metadata": {},
   "outputs": [
    {
     "name": "stdout",
     "output_type": "stream",
     "text": [
      "time 6.762330055236816 sec\n",
      "time 0.06421303749084473 sec\n"
     ]
    }
   ],
   "source": [
    "max_depth =20\n",
    "length = 3\n",
    "nqubits = length**2\n",
    "hamiltonian = open_square_Heisenberg_anti_ferro(length)\n",
    "driver = Observable(nqubits)\n",
    "for i in range(nqubits):\n",
    "    driver.add_operator(1.0,f\"X {i}\")\n",
    "    driver.add_operator(1.0,f\"Z {i}\")\n",
    "\n",
    "ansatz_circuit = hamiltonian_ansatz(hamiltonian,driver,max_depth)\n",
    "num_paras = ansatz_circuit.get_parameter_count()\n",
    "\n",
    "\n",
    "init_theta_list = [random.random() for i in range(ansatz_circuit.get_parameter_count())]\n",
    "st_time = time.time()\n",
    "res_grad = grad(init_theta_list)\n",
    "print(\"time\",time.time()-st_time,\"sec\")\n",
    "\n",
    "st_time = time.time()\n",
    "res_grad = grad_backprop(init_theta_list)\n",
    "print(\"time\",time.time()-st_time,\"sec\")"
   ]
  },
  {
   "cell_type": "code",
   "execution_count": null,
   "metadata": {},
   "outputs": [],
   "source": []
  }
 ],
 "metadata": {
  "kernelspec": {
   "display_name": "Python 3",
   "language": "python",
   "name": "python3"
  },
  "language_info": {
   "codemirror_mode": {
    "name": "ipython",
    "version": 3
   },
   "file_extension": ".py",
   "mimetype": "text/x-python",
   "name": "python",
   "nbconvert_exporter": "python",
   "pygments_lexer": "ipython3",
   "version": "3.7.4"
  }
 },
 "nbformat": 4,
 "nbformat_minor": 2
}
