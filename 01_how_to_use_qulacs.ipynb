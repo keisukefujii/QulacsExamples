{
 "cells": [
  {
   "cell_type": "markdown",
   "metadata": {},
   "source": [
    "以下のリンクからブラウザ上で実行できます。qulacs等のインポートが必要になりますので、以下のコメントアウトを消してpip installを実行してください。\n",
    "[[mybinderで開く]](https://mybinder.org/v2/gh/keisukefujii/QulacsExamples/HEAD?filepath=5.2c1_application_of_QCL_to_classification.ipynb) "
   ]
  },
  {
   "cell_type": "code",
   "execution_count": 3,
   "metadata": {},
   "outputs": [],
   "source": [
    "#!pip install qulacs\n",
    "#!pip install matplotlib\n",
    "#!pip install numpy\n",
    "#!pip install scipy\n",
    "from utility import *"
   ]
  },
  {
   "cell_type": "code",
   "execution_count": 4,
   "metadata": {},
   "outputs": [],
   "source": [
    "import matplotlib.pyplot as plt\n",
    "import numpy as np\n",
    "import time \n",
    "import random\n",
    "from qulacs import QuantumState\n",
    "from qulacs import QuantumCircuit\n",
    "from qulacs.gate import DenseMatrix\n",
    "from qulacs.circuit import QuantumCircuitOptimizer"
   ]
  },
  {
   "cell_type": "code",
   "execution_count": 8,
   "metadata": {},
   "outputs": [],
   "source": [
    "nqubits = 25\n",
    "state = QuantumState(nqubits)\n",
    "#print(state)"
   ]
  },
  {
   "cell_type": "code",
   "execution_count": 9,
   "metadata": {},
   "outputs": [],
   "source": [
    "from qulacs import QuantumState\n",
    "from qulacs.gate import Identity, X,Y,Z #パウリ演算子\n",
    "from qulacs.gate import H,S,Sdag, sqrtX,sqrtXdag,sqrtY,sqrtYdag #1量子ビット Clifford演算\n",
    "from qulacs.gate import T,Tdag #1量子ビット 非Clifford演算\n",
    "from qulacs.gate import RX,RY,RZ #パウリ演算子についての回転演算\n",
    "from qulacs.gate import CNOT, CZ, SWAP #2量子ビット演算"
   ]
  },
  {
   "cell_type": "code",
   "execution_count": 18,
   "metadata": {},
   "outputs": [],
   "source": [
    "nqubits = 20\n",
    "state =QuantumState(nqubits)\n",
    "for i in range(nqubits):\n",
    "    H(i).update_quantum_state(state)\n",
    "\n",
    "for i in range(nqubits-1):\n",
    "    CNOT(i,i+1).update_quantum_state(state)"
   ]
  },
  {
   "cell_type": "code",
   "execution_count": 21,
   "metadata": {},
   "outputs": [],
   "source": [
    "num_samp = 10000\n",
    "res = state.sampling(num_samp)"
   ]
  },
  {
   "cell_type": "code",
   "execution_count": 6,
   "metadata": {},
   "outputs": [],
   "source": [
    "H(0).update_quantum_state(state)"
   ]
  },
  {
   "cell_type": "code",
   "execution_count": 7,
   "metadata": {},
   "outputs": [
    {
     "name": "stdout",
     "output_type": "stream",
     "text": [
      " *** Quantum State ***\n",
      " * Qubit Count : 5\n",
      " * Dimension   : 32\n",
      " * State vector : \n",
      "(0.707107,0)\n",
      "(0.707107,0)\n",
      "       (0,0)\n",
      "       (0,0)\n",
      "       (0,0)\n",
      "       (0,0)\n",
      "       (0,0)\n",
      "       (0,0)\n",
      "       (0,0)\n",
      "       (0,0)\n",
      "       (0,0)\n",
      "       (0,0)\n",
      "       (0,0)\n",
      "       (0,0)\n",
      "       (0,0)\n",
      "       (0,0)\n",
      "       (0,0)\n",
      "       (0,0)\n",
      "       (0,0)\n",
      "       (0,0)\n",
      "       (0,0)\n",
      "       (0,0)\n",
      "       (0,0)\n",
      "       (0,0)\n",
      "       (0,0)\n",
      "       (0,0)\n",
      "       (0,0)\n",
      "       (0,0)\n",
      "       (0,0)\n",
      "       (0,0)\n",
      "       (0,0)\n",
      "       (0,0)\n",
      "\n"
     ]
    }
   ],
   "source": [
    "print(state)"
   ]
  },
  {
   "cell_type": "code",
   "execution_count": 10,
   "metadata": {},
   "outputs": [
    {
     "data": {
      "image/png": "[encoded data removed]",
      "text/plain": [
       "<Figure size 432x288 with 1 Axes>"
      ]
     },
     "metadata": {
      "needs_background": "light"
     },
     "output_type": "display_data"
    }
   ],
   "source": [
    "show_distribution(state)"
   ]
  },
  {
   "cell_type": "code",
   "execution_count": 11,
   "metadata": {},
   "outputs": [],
   "source": [
    "for i in range(nqubits):\n",
    "    H(i).update_quantum_state(state)\n",
    "    "
   ]
  },
  {
   "cell_type": "code",
   "execution_count": 13,
   "metadata": {},
   "outputs": [],
   "source": [
    "circuit = QuantumCircuit(nqubits)\n",
    "for i in range(nqubits):\n",
    "    circuit.add_gate(H(i))\n",
    "    \n",
    "for i in range(nqubits-1):\n",
    "    circuit.add_gate(CNOT(i,i+1))\n",
    "\n",
    "for i in range(nqubits):\n",
    "    circuit.add_gate(H(i))\n",
    "\n",
    "for i in range(nqubits):\n",
    "    circuit.add_gate(RX(i,np.random.random()))\n",
    "\n"
   ]
  },
  {
   "cell_type": "code",
   "execution_count": 14,
   "metadata": {},
   "outputs": [
    {
     "name": "stdout",
     "output_type": "stream",
     "text": [
      "*** Quantum Circuit Info ***\n",
      "# of qubit: 5\n",
      "# of step : 7\n",
      "# of gate : 19\n",
      "# of 1 qubit gate: 15\n",
      "# of 2 qubit gate: 4\n",
      "Clifford  : no\n",
      "Gaussian  : no\n",
      "\n",
      "\n"
     ]
    }
   ],
   "source": [
    "print(circuit)"
   ]
  },
  {
   "cell_type": "code",
   "execution_count": 15,
   "metadata": {},
   "outputs": [],
   "source": [
    "circuit.update_quantum_state(state)"
   ]
  },
  {
   "cell_type": "code",
   "execution_count": 20,
   "metadata": {},
   "outputs": [
    {
     "data": {
      "text/plain": [
       "['0b11001',\n",
       " '0b101',\n",
       " '0b11001',\n",
       " '0b10011',\n",
       " '0b1000',\n",
       " '0b1110',\n",
       " '0b1111',\n",
       " '0b101',\n",
       " '0b11010',\n",
       " '0b11100']"
      ]
     },
     "execution_count": 20,
     "metadata": {},
     "output_type": "execute_result"
    }
   ],
   "source": [
    "res = state.sampling(10)\n",
    "[bin(res[i]) for i in range(10)]"
   ]
  },
  {
   "cell_type": "code",
   "execution_count": 24,
   "metadata": {},
   "outputs": [],
   "source": [
    "nqubits = 26\n",
    "state = QuantumState(nqubits)\n",
    "circuit = QuantumCircuit(nqubits)\n",
    "for i in range(nqubits):\n",
    "    circuit.add_gate(H(i))\n",
    "circuit.update_quantum_state(state)"
   ]
  },
  {
   "cell_type": "markdown",
   "metadata": {},
   "source": [
    "#  Qulacsの基本的な使い方\n",
    "\n",
    "\n",
    "\n",
    "\n",
    "\n",
    "## QuantumStateクラス：量子状態の取扱\n",
    "\n",
    "- 量子状態の確保\n",
    "- 初期化：`set_zero_state()`\n",
    "- 状態ベクトルをarrayとして書き出し：`get_vecot()`\n",
    "- 状態のコピー：`copy()`\n",
    "- 計算基底でのサンプリング：`sampling()`"
   ]
  },
  {
   "cell_type": "markdown",
   "metadata": {},
   "source": [
    "### 量子ビットの確保"
   ]
  },
  {
   "cell_type": "code",
   "execution_count": 4,
   "metadata": {},
   "outputs": [],
   "source": [
    "from qulacs import QuantumState\n",
    "nqubits = 5\n",
    "state = QuantumState(nqubits)"
   ]
  },
  {
   "cell_type": "markdown",
   "metadata": {},
   "source": [
    "また、確保した量子ビットをすべて0状態、$|00...0\\rangle$へと初期化は `set_zero_state()`で行うことができる。"
   ]
  },
  {
   "cell_type": "code",
   "execution_count": 5,
   "metadata": {},
   "outputs": [],
   "source": [
    "state.set_zero_state()"
   ]
  },
  {
   "cell_type": "markdown",
   "metadata": {},
   "source": [
    "### 状態ベクトルを `array` として書き出し\n",
    "量子状態を取得し、`array`として格納するには、`get_vector()`を使う。"
   ]
  },
  {
   "cell_type": "code",
   "execution_count": 6,
   "metadata": {},
   "outputs": [
    {
     "name": "stdout",
     "output_type": "stream",
     "text": [
      "[1.+0.j 0.+0.j 0.+0.j 0.+0.j 0.+0.j 0.+0.j 0.+0.j 0.+0.j 0.+0.j 0.+0.j\n",
      " 0.+0.j 0.+0.j 0.+0.j 0.+0.j 0.+0.j 0.+0.j 0.+0.j 0.+0.j 0.+0.j 0.+0.j\n",
      " 0.+0.j 0.+0.j 0.+0.j 0.+0.j 0.+0.j 0.+0.j 0.+0.j 0.+0.j 0.+0.j 0.+0.j\n",
      " 0.+0.j 0.+0.j]\n"
     ]
    }
   ],
   "source": [
    "state_array = state.get_vector()\n",
    "print(state_array)"
   ]
  },
  {
   "cell_type": "markdown",
   "metadata": {},
   "source": [
    "逆に`array`から状態をロードすることも可能"
   ]
  },
  {
   "cell_type": "code",
   "execution_count": 11,
   "metadata": {},
   "outputs": [
    {
     "name": "stdout",
     "output_type": "stream",
     "text": [
      " *** Quantum State ***\n",
      " * Qubit Count : 5\n",
      " * Dimension   : 32\n",
      " * State vector : \n",
      "(1.2345,0)\n",
      "(1.2345,0)\n",
      "(1.2345,0)\n",
      "(1.2345,0)\n",
      "(1.2345,0)\n",
      "(1.2345,0)\n",
      "(1.2345,0)\n",
      "(1.2345,0)\n",
      "(1.2345,0)\n",
      "(1.2345,0)\n",
      "(1.2345,0)\n",
      "(1.2345,0)\n",
      "(1.2345,0)\n",
      "(1.2345,0)\n",
      "(1.2345,0)\n",
      "(1.2345,0)\n",
      "(1.2345,0)\n",
      "(1.2345,0)\n",
      "(1.2345,0)\n",
      "(1.2345,0)\n",
      "(1.2345,0)\n",
      "(1.2345,0)\n",
      "(1.2345,0)\n",
      "(1.2345,0)\n",
      "(1.2345,0)\n",
      "(1.2345,0)\n",
      "(1.2345,0)\n",
      "(1.2345,0)\n",
      "(1.2345,0)\n",
      "(1.2345,0)\n",
      "(1.2345,0)\n",
      "(1.2345,0)\n",
      "\n"
     ]
    }
   ],
   "source": [
    "my_vector = [ 1.2345 for i in range(2**nqubits)]\n",
    "state.load(my_vector)\n",
    "print(state)"
   ]
  },
  {
   "cell_type": "markdown",
   "metadata": {},
   "source": [
    "### 特殊な初期状態の指定\n",
    "ゼロ状態への初期化以外にも、ビット列を指定した初期化、`set_computational_basis()`、や、ランダムな量子状態の準備、`set_Haar_random_state()`、などの準備を行う関数も用意されている。"
   ]
  },
  {
   "cell_type": "code",
   "execution_count": 12,
   "metadata": {},
   "outputs": [
    {
     "name": "stdout",
     "output_type": "stream",
     "text": [
      "(1+0j)\n"
     ]
    }
   ],
   "source": [
    "state.set_computational_basis(0b10101)\n",
    "print(state.get_vector()[0b10101])"
   ]
  },
  {
   "cell_type": "markdown",
   "metadata": {},
   "source": [
    "`utility.py` （いつも使う便利な関数）にある確率分布を表示させる関数 `show_distribution` を使ってみよう。計算基底に関する測定確率の分布は、"
   ]
  },
  {
   "cell_type": "code",
   "execution_count": 13,
   "metadata": {},
   "outputs": [
    {
     "data": {
      "image/png": "[encoded data removed]",
      "text/plain": [
       "<Figure size 432x288 with 1 Axes>"
      ]
     },
     "metadata": {
      "needs_background": "light"
     },
     "output_type": "display_data"
    }
   ],
   "source": [
    "show_distribution(state)"
   ]
  },
  {
   "cell_type": "code",
   "execution_count": 14,
   "metadata": {},
   "outputs": [
    {
     "data": {
      "image/png": "[encoded data removed]",
      "text/plain": [
       "<Figure size 432x288 with 1 Axes>"
      ]
     },
     "metadata": {
      "needs_background": "light"
     },
     "output_type": "display_data"
    }
   ],
   "source": [
    "seed = 0\n",
    "state.set_Haar_random_state(seed)\n",
    "show_distribution(state)"
   ]
  },
  {
   "cell_type": "markdown",
   "metadata": {},
   "source": [
    "### 計算基底でのサンプリング\n",
    "`sampling(shots)` で `shots` 回の計算基底でのサンプリングを実行できる。実行結果はサンプリング結果のビット列を整数化したリストとして得られる。"
   ]
  },
  {
   "cell_type": "code",
   "execution_count": 15,
   "metadata": {},
   "outputs": [
    {
     "data": {
      "text/plain": [
       "[13, 29, 15, 3, 24, 17, 14, 1, 7, 31]"
      ]
     },
     "execution_count": 15,
     "metadata": {},
     "output_type": "execute_result"
    }
   ],
   "source": [
    "shots = 10\n",
    "state.sampling(shots)"
   ]
  },
  {
   "cell_type": "markdown",
   "metadata": {},
   "source": [
    "　量子状態のために確保したメモリの解放は、`del`から行うことができる。"
   ]
  },
  {
   "cell_type": "code",
   "execution_count": 16,
   "metadata": {},
   "outputs": [
    {
     "ename": "NameError",
     "evalue": "name 'state' is not defined",
     "output_type": "error",
     "traceback": [
      "\u001b[0;31m---------------------------------------------------------------------------\u001b[0m",
      "\u001b[0;31mNameError\u001b[0m                                 Traceback (most recent call last)",
      "\u001b[0;32m<ipython-input-16-435276040a36>\u001b[0m in \u001b[0;36m<module>\u001b[0;34m\u001b[0m\n\u001b[1;32m      1\u001b[0m \u001b[0;32mdel\u001b[0m \u001b[0mstate\u001b[0m\u001b[0;34m\u001b[0m\u001b[0;34m\u001b[0m\u001b[0m\n\u001b[0;32m----> 2\u001b[0;31m \u001b[0mstate\u001b[0m\u001b[0;34m\u001b[0m\u001b[0;34m\u001b[0m\u001b[0m\n\u001b[0m",
      "\u001b[0;31mNameError\u001b[0m: name 'state' is not defined"
     ]
    }
   ],
   "source": [
    "del state\n",
    "state"
   ]
  },
  {
   "cell_type": "markdown",
   "metadata": {},
   "source": [
    "### 状態のコピーと内積\n",
    "qulacsには他にも、量子状態のコピーや、"
   ]
  },
  {
   "cell_type": "code",
   "execution_count": 17,
   "metadata": {},
   "outputs": [],
   "source": [
    "state = QuantumState(nqubits)\n",
    "copied_state = state.copy()"
   ]
  },
  {
   "cell_type": "markdown",
   "metadata": {},
   "source": [
    "２つの量子状態の内積の計算、"
   ]
  },
  {
   "cell_type": "code",
   "execution_count": 18,
   "metadata": {},
   "outputs": [
    {
     "data": {
      "text/plain": [
       "(1+0j)"
      ]
     },
     "execution_count": 18,
     "metadata": {},
     "output_type": "execute_result"
    }
   ],
   "source": [
    "from qulacs.state import inner_product\n",
    "inner_product(copied_state,state)\n",
    "#同じ状態の内積なので1になる。"
   ]
  },
  {
   "cell_type": "markdown",
   "metadata": {},
   "source": [
    "## 量子演算とその実行\n",
    "- 様々な量子演算\n",
    "- 量子演算による状態の更新：`update_quantum_state()`"
   ]
  },
  {
   "cell_type": "markdown",
   "metadata": {},
   "source": [
    "　量子演算の生成は、`gate`に関するモジュールを用いて実行する。パウリ演算やアダマール演算、CNOT演算など、よく使う基本演算はあらかじめ定義されている。また、自分で定義した配列から、量子演算を生成することもできる。"
   ]
  },
  {
   "cell_type": "code",
   "execution_count": 14,
   "metadata": {},
   "outputs": [],
   "source": [
    "from qulacs import QuantumState\n",
    "from qulacs.gate import Identity, X,Y,Z #パウリ演算子\n",
    "from qulacs.gate import H,S,Sdag, sqrtX,sqrtXdag,sqrtY,sqrtYdag #1量子ビット Clifford演算\n",
    "from qulacs.gate import T,Tdag #1量子ビット 非Clifford演算\n",
    "from qulacs.gate import RX,RY,RZ #パウリ演算子についての回転演算\n",
    "from qulacs.gate import CNOT, CZ, SWAP #2量子ビット演算"
   ]
  },
  {
   "cell_type": "markdown",
   "metadata": {},
   "source": [
    "`Identity` $\n",
    "=\n",
    "\\left(\n",
    "\\begin{array}{cc}\n",
    "1 & 0\n",
    "\\\\\n",
    "0 & 1\n",
    "\\end{array}\n",
    "\\right)\n",
    "$, \n",
    "`X` $\n",
    "= \n",
    "\\left(\n",
    "\\begin{array}{cc}\n",
    "0 & 1\n",
    "\\\\\n",
    "1 & 0\n",
    "\\end{array}\n",
    "\\right)\n",
    "$, \n",
    "`Y` $\n",
    "=\n",
    "\\left(\n",
    "\\begin{array}{cc}\n",
    "0 & -i\n",
    "\\\\\n",
    "i & 0\n",
    "\\end{array}\n",
    "\\right)\n",
    "$, \n",
    "`Z` $\n",
    "=\n",
    "\\left(\n",
    "\\begin{array}{cc}\n",
    "1 & 0\n",
    "\\\\\n",
    "0 & -1\n",
    "\\end{array}\n",
    "\\right)\n",
    "$, \n",
    "\n",
    "\n",
    "`H` $\n",
    "=\n",
    "\\frac{1}{\\sqrt{2}}\\left(\n",
    "\\begin{array}{cc}\n",
    "1 & 1\n",
    "\\\\\n",
    "1 & -1\n",
    "\\end{array}\n",
    "\\right)\n",
    "$, \n",
    "`S` $\n",
    "=\n",
    "\\left(\n",
    "\\begin{array}{cc}\n",
    "1 & 0\n",
    "\\\\\n",
    "0 & i\n",
    "\\end{array}\n",
    "\\right)\n",
    "$,\n",
    "`Sdag` $\n",
    "=\n",
    "\\frac{1}{\\sqrt{2}}\\left(\n",
    "\\begin{array}{cc}\n",
    "1 & 0\n",
    "\\\\\n",
    "0 & -i\n",
    "\\end{array}\n",
    "\\right)\n",
    "$,\n",
    "\n",
    "\n",
    "`sqrtX` $\n",
    "=\\sqrt{X}=\n",
    "\\frac{1}{2}\\left(\n",
    "\\begin{array}{cc}\n",
    "1+i & 1-i\n",
    "\\\\\n",
    "1-i & 1+i\n",
    "\\end{array}\n",
    "\\right)\n",
    "$, \n",
    "`sqrtXdag` $\n",
    "=\\sqrt{X}^{\\dagger}=\n",
    "\\frac{1}{2}\\left(\n",
    "\\begin{array}{cc}\n",
    "1-i & 1+i\n",
    "\\\\\n",
    "1+i & 1-i\n",
    "\\end{array}\n",
    "\\right)\n",
    "$, \n",
    "\n",
    "`sqrtY` $\n",
    "=\\sqrt{Y}=\n",
    "\\frac{1}{2}\\left(\n",
    "\\begin{array}{cc}\n",
    "1+i & -1-i\n",
    "\\\\\n",
    "1+i & 1+i\n",
    "\\end{array}\n",
    "\\right)\n",
    "$, \n",
    "`sqrtYdag` $\n",
    "=\\sqrt{Y}^{\\dagger}=\n",
    "\\frac{1}{2}\\left(\n",
    "\\begin{array}{cc}\n",
    "1-i & -1+i\n",
    "\\\\\n",
    "1-i & 1-i\n",
    "\\end{array}\n",
    "\\right)\n",
    "$"
   ]
  },
  {
   "cell_type": "markdown",
   "metadata": {},
   "source": [
    "`T` \n",
    "$\n",
    "= \n",
    "\\left(\n",
    "\\begin{array}{cc}\n",
    "1 & 0\n",
    "\\\\\n",
    "0 & e^{i \\pi/4}\n",
    "\\end{array}\n",
    "\\right)\n",
    "$, \n",
    "`Tdag` \n",
    "$=\n",
    "\\left(\n",
    "\\begin{array}{cc}\n",
    "1 & 0\n",
    "\\\\\n",
    "0 & e^{-i \\pi/4}\n",
    "\\end{array}\n",
    "\\right)\n",
    "$\n"
   ]
  },
  {
   "cell_type": "markdown",
   "metadata": {},
   "source": [
    "`RX` $= e^{i (\\theta/2) X}$, `RY` $= e^{i (\\theta/2) Y}$, `RZ` $= e^{i (\\theta/2) Z}$"
   ]
  },
  {
   "cell_type": "markdown",
   "metadata": {},
   "source": [
    "`CNOT` $= \\left(\n",
    "\\begin{array}{cccc}\n",
    "    1 & 0& 0& 0\n",
    "    \\\\\n",
    "    0 & 1& 0& 0\n",
    "    \\\\\n",
    "    0 & 0& 0& 1\n",
    "    \\\\\n",
    "    0 & 0& 1& 0    \n",
    "\\end{array}\n",
    "\\right)\n",
    "$,\n",
    "`CZ` $= \\left(\n",
    "\\begin{array}{cccc}\n",
    "    1 & 0& 0& 0\n",
    "    \\\\\n",
    "    0 & 1& 0& 0\n",
    "    \\\\\n",
    "    0 & 0& 1& 0\n",
    "    \\\\\n",
    "    0 & 0& 0& -1    \n",
    "\\end{array}\n",
    "\\right)\n",
    "$,\n",
    "`SWAP` $= \\left(\n",
    "\\begin{array}{cccc}\n",
    "    1 & 0& 0& 0\n",
    "    \\\\\n",
    "    0 & 0& 1& 0\n",
    "    \\\\\n",
    "    0 & 1& 0& 0\n",
    "    \\\\\n",
    "    0 & 0& 0& 1    \n",
    "\\end{array}\n",
    "\\right)\n",
    "$"
   ]
  },
  {
   "cell_type": "markdown",
   "metadata": {},
   "source": [
    "他にも、多体のパウリ演算、`Pauli`、多体パウリ演算による回転、`PauliRotation`、IBMQで利用されている`U1`,`U2`,`U3`演算や、測定、`Measurement`、ノイズ（確率的な演算）、 `BitFlipNoise`、`DephasingNoise`、 `IndepenedentXZNoise`、`DepolarizingNoise`なども用意されている。これらの事前に定義された演算に対して、量子ビットのインデックスや、回転演算の角度など必要な情報を引数として指定することによってが`gate`が生成される。生成された演算を状態に作用させ状態`state`を更新するときは、`gate.update_quantum_state(state)`が利用できる。"
   ]
  },
  {
   "cell_type": "markdown",
   "metadata": {},
   "source": [
    "### 量子状態の更新の例"
   ]
  },
  {
   "cell_type": "code",
   "execution_count": 14,
   "metadata": {},
   "outputs": [
    {
     "name": "stdout",
     "output_type": "stream",
     "text": [
      "[1.+0.j 0.+0.j 0.+0.j 0.+0.j 0.+0.j 0.+0.j 0.+0.j 0.+0.j]\n",
      "[0.+0.j 1.+0.j 0.+0.j 0.+0.j 0.+0.j 0.+0.j 0.+0.j 0.+0.j]\n",
      "[0.+0.j 0.+0.j 0.+0.j 1.+0.j 0.+0.j 0.+0.j 0.+0.j 0.+0.j]\n",
      "[0.        +0.j 0.        +0.j 0.        +0.j 0.70710678+0.j\n",
      " 0.        +0.j 0.        +0.j 0.        +0.j 0.70710678+0.j]\n",
      "[0.        +0.j 0.        +0.j 0.        +0.j 0.70710678+0.j\n",
      " 0.        +0.j 0.70710678+0.j 0.        +0.j 0.        +0.j]\n"
     ]
    }
   ],
   "source": [
    "state = QuantumState(3) #量子ビットの状態確保\n",
    "state.set_zero_state() #状態をすべてゼロに初期化\n",
    "print(state.get_vector()) #状態の情報を取得\n",
    "\n",
    "X(0).update_quantum_state(state) #0番目の量子ビットにXを作用させ状態をアップデート\n",
    "print(state.get_vector())\n",
    "\n",
    "gate = X(1) #1番目の量子ビットに作用するX演算を生成\n",
    "gate.update_quantum_state(state) #生成した演算を作用させて状態をアップデート\n",
    "print(state.get_vector())\n",
    "\n",
    "H(2).update_quantum_state(state) #2番目の量子ビットにHを作用させ状態をアップデート\n",
    "print(state.get_vector())\n",
    "\n",
    "CNOT(2,1).update_quantum_state(state) #2番目から1番目の量子ビットへのCNOTを作用させ状態をアップデート\n",
    "print(state.get_vector())"
   ]
  },
  {
   "cell_type": "markdown",
   "metadata": {},
   "source": [
    "### 回転演算\n",
    "`RX`、`RY`,`RZ`などの回転演算は、作用する量子ビットのインデックスと回転角を与えて定義する。"
   ]
  },
  {
   "cell_type": "code",
   "execution_count": 15,
   "metadata": {},
   "outputs": [
    {
     "name": "stdout",
     "output_type": "stream",
     "text": [
      "[ 0.92387953+0.j -0.38268343+0.j]\n"
     ]
    }
   ],
   "source": [
    "state = QuantumState(1)\n",
    "state.set_zero_state()\n",
    "RY(0,np.pi/4.0).update_quantum_state(state) #0番目の量子ビットをY軸に pi/4 回転させる\n",
    "print(state.get_vector())"
   ]
  },
  {
   "cell_type": "markdown",
   "metadata": {},
   "source": [
    "### 自分で定義した演算を実行\n",
    "`DenseMatrix`を用いて、自分で定義した一般の行列から演算を作ることもできる。"
   ]
  },
  {
   "cell_type": "code",
   "execution_count": 16,
   "metadata": {},
   "outputs": [
    {
     "name": "stdout",
     "output_type": "stream",
     "text": [
      "[[     0.          17458.4664275 ]\n",
      " [139674.80248778      0.        ]]\n",
      "[12345.+0.j 98765.+0.j]\n"
     ]
    }
   ],
   "source": [
    "from qulacs.gate import DenseMatrix\n",
    "import numpy as np\n",
    "state = QuantumState(1)\n",
    "state.set_zero_state()\n",
    "H(0).update_quantum_state(state)\n",
    "\n",
    "my_matrix = np.array([[0,12345*np.sqrt(2)],[98765*np.sqrt(2),0]]) #任意の行列要素を自分で定義\n",
    "print(my_matrix)\n",
    "\n",
    "gate = DenseMatrix(0,my_matrix) #定義した行列から演算を生成\n",
    "gate.update_quantum_state(state)\n",
    "\n",
    "print(state.get_vector())"
   ]
  },
  {
   "cell_type": "markdown",
   "metadata": {},
   "source": [
    "複数の量子ビットに作用する演算を定義したければ、`DenseMatrix(\"作用する量子ビットのインデックスリスト\",\"行列の配列\")`とすればよい。"
   ]
  },
  {
   "cell_type": "markdown",
   "metadata": {},
   "source": [
    "## 量子回路の構成"
   ]
  },
  {
   "cell_type": "markdown",
   "metadata": {},
   "source": [
    "上で説明したように、各演算ごとに実行して量子状態を更新することもできるが、複雑な量子回路を構成する場合には、実行する前に量子回路を構成できると便利であろう。qulacsでは、`QuantumCircuit`クラスを用いて、演算の集合からなる回路`circuit`を定義することができる。定義した回路をprintすると、構成された回路の詳細データを得ることができる。"
   ]
  },
  {
   "cell_type": "code",
   "execution_count": 20,
   "metadata": {},
   "outputs": [
    {
     "name": "stdout",
     "output_type": "stream",
     "text": [
      "*** Quantum Circuit Info ***\n",
      "# of qubit: 2\n",
      "# of step : 0\n",
      "# of gate : 0\n",
      "Clifford  : yes\n",
      "Gaussian  : yes\n",
      "\n",
      "\n"
     ]
    }
   ],
   "source": [
    "from qulacs import QuantumCircuit\n",
    "nqubits = 2\n",
    "state = QuantumState(nqubits)\n",
    "state.set_zero_state()\n",
    "circuit = QuantumCircuit(nqubits)\n",
    "print(circuit)"
   ]
  },
  {
   "cell_type": "markdown",
   "metadata": {},
   "source": [
    "回路への、演算の追加は、以下のような方法で行うことができる。"
   ]
  },
  {
   "cell_type": "code",
   "execution_count": 21,
   "metadata": {},
   "outputs": [
    {
     "name": "stdout",
     "output_type": "stream",
     "text": [
      "*** Quantum Circuit Info ***\n",
      "# of qubit: 2\n",
      "# of step : 1\n",
      "# of gate : 2\n",
      "# of 1 qubit gate: 2\n",
      "Clifford  : yes\n",
      "Gaussian  : no\n",
      "\n",
      "\n"
     ]
    }
   ],
   "source": [
    "circuit.add_H_gate(0) # 0番目の量子ビットに作用するHを追加\n",
    "circuit.add_gate(H(1)) # 1番目の量子ビットに作用するHを追加\n",
    "print(circuit)"
   ]
  },
  {
   "cell_type": "markdown",
   "metadata": {},
   "source": [
    "このようにして構成された`circuit`を実行して`state`の更新を行いたければ、`gate`の場合と同様に、\n",
    "`circuit.update_quantum_state(state)`とすればよい。"
   ]
  },
  {
   "cell_type": "code",
   "execution_count": 27,
   "metadata": {},
   "outputs": [
    {
     "name": "stdout",
     "output_type": "stream",
     "text": [
      "[0.5+0.j 0.5+0.j 0.5+0.j 0.5+0.j]\n"
     ]
    }
   ],
   "source": [
    "circuit.update_quantum_state(state) #構成されたcircuitを実行して状態を更新\n",
    "print(state.get_vector())"
   ]
  },
  {
   "cell_type": "markdown",
   "metadata": {},
   "source": [
    "## Qulacsの計算速度を体感\n",
    "    一通り、導入が終わったので、qulacsの実行速度を計測してみよう。まずは、一量子ビットの実行時間を計測してみる。"
   ]
  },
  {
   "cell_type": "code",
   "execution_count": 22,
   "metadata": {},
   "outputs": [
    {
     "name": "stdout",
     "output_type": "stream",
     "text": [
      "number of qubit:5 time:2.172984801057809e-07[sec]\n",
      "number of qubit:6 time:1.7427662999189265e-07[sec]\n",
      "number of qubit:7 time:1.8076524072416723e-07[sec]\n",
      "number of qubit:8 time:2.0360660597560956e-07[sec]\n",
      "number of qubit:9 time:2.7935781110913224e-07[sec]\n",
      "number of qubit:10 time:4.3130724483577093e-07[sec]\n",
      "number of qubit:11 time:7.87291810727391e-07[sec]\n",
      "number of qubit:12 time:1.4506750582445072e-06[sec]\n",
      "number of qubit:13 time:5.11568204275715e-05[sec]\n",
      "number of qubit:14 time:5.282040143790863e-05[sec]\n",
      "number of qubit:15 time:5.432670201851413e-05[sec]\n",
      "number of qubit:16 time:5.792603380045922e-05[sec]\n",
      "number of qubit:17 time:6.405983540111884e-05[sec]\n",
      "number of qubit:18 time:7.460760945797322e-05[sec]\n",
      "number of qubit:19 time:9.78415083731254e-05[sec]\n",
      "number of qubit:20 time:0.00042180293748358716[sec]\n",
      "number of qubit:21 time:0.0022063115974525352[sec]\n",
      "number of qubit:22 time:0.0052310300595832596[sec]\n",
      "number of qubit:23 time:0.010901946088542109[sec]\n",
      "number of qubit:24 time:0.02248343328634898[sec]\n",
      "number of qubit:25 time:0.045208797454833985[sec]\n"
     ]
    }
   ],
   "source": [
    "import time\n",
    "\n",
    "for i in range(21):\n",
    "    nqubits = i+5\n",
    "    state = QuantumState(nqubits)\n",
    "    state.set_zero_state()\n",
    "    circuit = QuantumCircuit(nqubits)\n",
    "    for j in range(nqubits):\n",
    "        circuit.add_gate(H(j)) #全部の量子ビットにHを作用させる回路を構成\n",
    "    \n",
    "    count = 0\n",
    "    \n",
    "    #計測スタート\n",
    "    start = time.time()\n",
    "    while time.time() - start < 1:\n",
    "        count = count+1\n",
    "        circuit.update_quantum_state(state)\n",
    "    elapsed_time = (time.time() - start)/(count*nqubits)\n",
    "    #計測終了\n",
    "    \n",
    "    print (\"number of qubit:{0}\".format(nqubits)+\" time:{0}\".format(elapsed_time) + \"[sec]\")"
   ]
  },
  {
   "cell_type": "markdown",
   "metadata": {},
   "source": [
    "## Observable クラス\n",
    "`add_operator`で係数とパウリ演算子のタイプ、そして量子ビットのindexを指定して追加"
   ]
  },
  {
   "cell_type": "code",
   "execution_count": 25,
   "metadata": {},
   "outputs": [
    {
     "name": "stdout",
     "output_type": "stream",
     "text": [
      "(1+0j) Z0\n"
     ]
    }
   ],
   "source": [
    "measurement = Observable(nqubits)\n",
    "measurement.add_operator(1.0,\"Z 0\")\n",
    "# utility.pyにある関数をつかって中身を表示\n",
    "show_observable(measurement)"
   ]
  },
  {
   "cell_type": "markdown",
   "metadata": {},
   "source": [
    "期待値の計算は、`get_expectation_value(state)`"
   ]
  },
  {
   "cell_type": "code",
   "execution_count": 26,
   "metadata": {},
   "outputs": [
    {
     "data": {
      "text/plain": [
       "1.0"
      ]
     },
     "execution_count": 26,
     "metadata": {},
     "output_type": "execute_result"
    }
   ],
   "source": [
    "nqubits = 1\n",
    "state = QuantumState(nqubits)\n",
    "measurement.get_expectation_value(state)"
   ]
  },
  {
   "cell_type": "code",
   "execution_count": 29,
   "metadata": {},
   "outputs": [
    {
     "name": "stdout",
     "output_type": "stream",
     "text": [
      "(1+0j) Z0 Z1 Z2 Z3 Z4 Z5 Z6 Z7 Z8 Z9\n"
     ]
    },
    {
     "data": {
      "text/plain": [
       "-0.01902484063143186"
      ]
     },
     "execution_count": 29,
     "metadata": {},
     "output_type": "execute_result"
    }
   ],
   "source": [
    "nqubits = 10\n",
    "state =QuantumState(nqubits)\n",
    "state.set_Haar_random_state()\n",
    "\n",
    "measurement = Observable(nqubits)\n",
    "measurement.add_operator(1.0,\"Z 0 Z 1 Z 2 Z 3 Z 4 Z 5 Z 6 Z 7 Z 8 Z 9\")\n",
    "show_observable(measurement)\n",
    "\n",
    "measurement.get_expectation_value(state)"
   ]
  },
  {
   "cell_type": "code",
   "execution_count": null,
   "metadata": {},
   "outputs": [],
   "source": []
  }
 ],
 "metadata": {
  "kernelspec": {
   "display_name": "Python 3",
   "language": "python",
   "name": "python3"
  },
  "language_info": {
   "codemirror_mode": {
    "name": "ipython",
    "version": 3
   },
   "file_extension": ".py",
   "mimetype": "text/x-python",
   "name": "python",
   "nbconvert_exporter": "python",
   "pygments_lexer": "ipython3",
   "version": "3.7.4"
  }
 },
 "nbformat": 4,
 "nbformat_minor": 2
}
