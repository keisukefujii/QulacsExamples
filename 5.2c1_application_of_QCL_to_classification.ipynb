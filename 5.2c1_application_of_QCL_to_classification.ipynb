{
 "cells": [
  {
   "cell_type": "markdown",
   "metadata": {},
   "source": [
    "[[mybinderで開く]](https://mybinder.org/v2/gh/keisukefujii/QulacsExamples/HEAD?filepath=01_how_to_use_qulacs.ipynb) "
   ]
  },
  {
   "cell_type": "markdown",
   "metadata": {},
   "source": [
    "# Quantum Circuit Learningを用いた分類"
   ]
  },
  {
   "cell_type": "markdown",
   "metadata": {},
   "source": [
    "5.2節で学んだ **Quantum Circuit Learning** (量子回路学習、QCL)は機械学習への応用を念頭に設計された量子アルゴリズムである。  \n",
    "5.2節では入出力ともに1次元の関数を扱ったが、現実の機械学習に応用するためには、より複雑な関数を近似できることが必要である。  \n",
    "\n",
    "ここではQCLの機械学習への応用例として、代表的な機械学習のデータセットの一つである[Irisデータセット](https://scikit-learn.org/stable/auto_examples/datasets/plot_iris_dataset.html)（Fisherのあやめ）の分類を行う。関数の詳細はこのノートブックと同じフォルダに入っている``qcl_prediction.py``にある。\n",
    "\n",
    "※ このコラムでは、``scikit-learn, pandas``を使用する。"
   ]
  },
  {
   "cell_type": "code",
   "execution_count": 2,
   "metadata": {},
   "outputs": [],
   "source": [
    "from qcl_classification import QclClassification"
   ]
  },
  {
   "cell_type": "code",
   "execution_count": 3,
   "metadata": {},
   "outputs": [],
   "source": [
    "import numpy as np\n",
    "import matplotlib.pyplot as plt\n",
    "%matplotlib inline"
   ]
  },
  {
   "cell_type": "markdown",
   "metadata": {},
   "source": [
    "### データの概要"
   ]
  },
  {
   "cell_type": "markdown",
   "metadata": {},
   "source": [
    "irisデータセットは機械学習でよく使われるアヤメの品種データである。  \n",
    "花びらやがくの長さ・幅のデータから、3品種のうちどれに属するかを分類する。  \n",
    "より詳細には[こちらのサイト](https://note.nkmk.me/python-scikit-learn-svm-iris-dataset/)を参照されたい。"
   ]
  },
  {
   "cell_type": "markdown",
   "metadata": {},
   "source": [
    "まず、scikit-learnから、Irisデータセットを読み込む。  "
   ]
  },
  {
   "cell_type": "code",
   "execution_count": 4,
   "metadata": {},
   "outputs": [
    {
     "data": {
      "text/html": [
       "<div>\n",
       "<style scoped>\n",
       "    .dataframe tbody tr th:only-of-type {\n",
       "        vertical-align: middle;\n",
       "    }\n",
       "\n",
       "    .dataframe tbody tr th {\n",
       "        vertical-align: top;\n",
       "    }\n",
       "\n",
       "    .dataframe thead th {\n",
       "        text-align: right;\n",
       "    }\n",
       "</style>\n",
       "<table border=\"1\" class=\"dataframe\">\n",
       "  <thead>\n",
       "    <tr style=\"text-align: right;\">\n",
       "      <th></th>\n",
       "      <th>sepal length (cm)</th>\n",
       "      <th>sepal width (cm)</th>\n",
       "      <th>petal length (cm)</th>\n",
       "      <th>petal width (cm)</th>\n",
       "      <th>target</th>\n",
       "      <th>target_names</th>\n",
       "    </tr>\n",
       "  </thead>\n",
       "  <tbody>\n",
       "    <tr>\n",
       "      <td>0</td>\n",
       "      <td>5.1</td>\n",
       "      <td>3.5</td>\n",
       "      <td>1.4</td>\n",
       "      <td>0.2</td>\n",
       "      <td>0</td>\n",
       "      <td>setosa</td>\n",
       "    </tr>\n",
       "    <tr>\n",
       "      <td>1</td>\n",
       "      <td>4.9</td>\n",
       "      <td>3.0</td>\n",
       "      <td>1.4</td>\n",
       "      <td>0.2</td>\n",
       "      <td>0</td>\n",
       "      <td>setosa</td>\n",
       "    </tr>\n",
       "    <tr>\n",
       "      <td>2</td>\n",
       "      <td>4.7</td>\n",
       "      <td>3.2</td>\n",
       "      <td>1.3</td>\n",
       "      <td>0.2</td>\n",
       "      <td>0</td>\n",
       "      <td>setosa</td>\n",
       "    </tr>\n",
       "    <tr>\n",
       "      <td>3</td>\n",
       "      <td>4.6</td>\n",
       "      <td>3.1</td>\n",
       "      <td>1.5</td>\n",
       "      <td>0.2</td>\n",
       "      <td>0</td>\n",
       "      <td>setosa</td>\n",
       "    </tr>\n",
       "    <tr>\n",
       "      <td>4</td>\n",
       "      <td>5.0</td>\n",
       "      <td>3.6</td>\n",
       "      <td>1.4</td>\n",
       "      <td>0.2</td>\n",
       "      <td>0</td>\n",
       "      <td>setosa</td>\n",
       "    </tr>\n",
       "  </tbody>\n",
       "</table>\n",
       "</div>"
      ],
      "text/plain": [
       "   sepal length (cm)  sepal width (cm)  petal length (cm)  petal width (cm)  \\\n",
       "0                5.1               3.5                1.4               0.2   \n",
       "1                4.9               3.0                1.4               0.2   \n",
       "2                4.7               3.2                1.3               0.2   \n",
       "3                4.6               3.1                1.5               0.2   \n",
       "4                5.0               3.6                1.4               0.2   \n",
       "\n",
       "   target target_names  \n",
       "0       0       setosa  \n",
       "1       0       setosa  \n",
       "2       0       setosa  \n",
       "3       0       setosa  \n",
       "4       0       setosa  "
      ]
     },
     "execution_count": 4,
     "metadata": {},
     "output_type": "execute_result"
    }
   ],
   "source": [
    "# Irisデータセットの読み込み\n",
    "\n",
    "import pandas as pd\n",
    "from sklearn import datasets\n",
    "\n",
    "iris = datasets.load_iris()\n",
    "\n",
    "# 扱いやすいよう、pandasのDataFrame形式に変換\n",
    "df = pd.DataFrame(iris.data, columns=iris.feature_names)\n",
    "df['target'] = iris.target\n",
    "df['target_names'] = iris.target_names[iris.target]\n",
    "df.head()"
   ]
  },
  {
   "cell_type": "markdown",
   "metadata": {},
   "source": [
    "ここで、列名の最初の4つ（sepal lengthなど）は、「がく」や花びらの長さ・幅を表しており、target, target_namesはそれぞれ品種番号(0,1,2)、品種名を表している。"
   ]
  },
  {
   "cell_type": "code",
   "execution_count": 5,
   "metadata": {},
   "outputs": [
    {
     "name": "stdout",
     "output_type": "stream",
     "text": [
      "# of records: 150\n",
      "\n",
      "value_counts:\n",
      "versicolor    50\n",
      "setosa        50\n",
      "virginica     50\n",
      "Name: target_names, dtype: int64\n"
     ]
    }
   ],
   "source": [
    "# サンプル総数\n",
    "print(f\"# of records: {len(df)}\\n\")\n",
    "\n",
    "# 各品種のサンプル数\n",
    "print(\"value_counts:\")\n",
    "print(df.target_names.value_counts())"
   ]
  },
  {
   "cell_type": "markdown",
   "metadata": {},
   "source": [
    "各サンプルについて、sepal length（がくの長さ）など4種類のデータがあるが、これらのうちpetal length(花びらの長さ), petal width(花びらの幅)に着目して分析を行う。"
   ]
  },
  {
   "cell_type": "code",
   "execution_count": 6,
   "metadata": {},
   "outputs": [],
   "source": [
    "## 教師データ作成\n",
    "# ここではpetal length, petal widthの2種類のデータを用いる。より高次元への拡張は容易である。\n",
    "x_train = df.loc[:,['petal length (cm)', 'petal width (cm)']].to_numpy() # shape:(150, 2)\n",
    "y_train = np.eye(3)[iris.target] # one-hot 表現 shape:(150, 3)"
   ]
  },
  {
   "cell_type": "code",
   "execution_count": 7,
   "metadata": {},
   "outputs": [
    {
     "data": {
      "image/png": "[encoded data removed]",
      "text/plain": [
       "<Figure size 576x360 with 1 Axes>"
      ]
     },
     "metadata": {
      "needs_background": "light"
     },
     "output_type": "display_data"
    }
   ],
   "source": [
    "# データ点のプロット\n",
    "plt.figure(figsize=(8, 5))\n",
    "\n",
    "for t in range(3):\n",
    "    x = x_train[iris.target==t][:,0]\n",
    "    y = x_train[iris.target==t][:,1]\n",
    "    cm = [plt.cm.Paired([c]) for c in [0,6,11]]\n",
    "    plt.scatter(x, y, c=cm[t], edgecolors='k', label=iris.target_names[t])\n",
    "\n",
    "# label\n",
    "plt.title('Iris dataset')\n",
    "plt.xlabel('petal length (cm)')\n",
    "plt.ylabel('petal width (cm)') \n",
    "plt.legend()\n",
    "plt.show()"
   ]
  },
  {
   "cell_type": "markdown",
   "metadata": {},
   "source": [
    "### QCLを用いた分類"
   ]
  },
  {
   "cell_type": "markdown",
   "metadata": {},
   "source": [
    "以下ではQCLを用いた分類問題を解くクラスであるQclClassificationを用いて、実際にIrisデータセットが分類される様子を見る。"
   ]
  },
  {
   "cell_type": "code",
   "execution_count": 8,
   "metadata": {},
   "outputs": [],
   "source": [
    "# 乱数発生器の初期化（量子回路のパラメータの初期値に用いる）\n",
    "random_seed = 0\n",
    "np.random.seed(random_seed)"
   ]
  },
  {
   "cell_type": "code",
   "execution_count": 30,
   "metadata": {},
   "outputs": [],
   "source": [
    "# 量子回路のパラメータ\n",
    "nqubit = 4 ## qubitの数。必要とする出力の次元数よりも多い必要がある\n",
    "c_depth = 3 ## circuitの深さ\n",
    "num_class = 3 ## 分類数（ここでは3つの品種に分類）"
   ]
  },
  {
   "cell_type": "code",
   "execution_count": 31,
   "metadata": {},
   "outputs": [],
   "source": [
    "# QclClassificationクラスをインスタンス化\n",
    "qcl = QclClassification(nqubit, c_depth, num_class)"
   ]
  },
  {
   "cell_type": "markdown",
   "metadata": {},
   "source": [
    "QclClassificationのfit()メソッドで、関数のfittingを行う。  \n",
    "学習には筆者のPC(CPU:2.3GHz Intel Core i5)で20秒程度を要する。"
   ]
  },
  {
   "cell_type": "code",
   "execution_count": 38,
   "metadata": {},
   "outputs": [
    {
     "name": "stdout",
     "output_type": "stream",
     "text": [
      "Initial parameter:\n",
      "[5.91485056 5.02153795 3.96122121 5.49331331 1.84110075 5.33406967\n",
      " 3.88223375 0.08316963 2.18173254 0.93079648 6.169016   3.00568928\n",
      " 3.12520212 4.01792432 2.31588538 0.86016978 5.16551806 1.19284961\n",
      " 3.21271192 1.40942546 0.61477503 5.41730907 6.11303344 6.03710221\n",
      " 5.69605619 4.86348283 2.09321272 0.50957506 2.55877174 1.45917015\n",
      " 0.83244436 0.33569288 4.55904385 0.07180084 4.84170164 0.923293  ]\n",
      "\n",
      "Initial value of cost function:  0.9986\n",
      "\n",
      "============================================================\n",
      "Iteration count...\n",
      "Iteration: 2 / 20,   Value of cost_func: 0.8858\n",
      "Iteration: 4 / 20,   Value of cost_func: 0.7867\n",
      "Iteration: 6 / 20,   Value of cost_func: 0.7486\n",
      "Iteration: 8 / 20,   Value of cost_func: 0.7348\n",
      "Iteration: 10 / 20,   Value of cost_func: 0.7204\n",
      "Iteration: 12 / 20,   Value of cost_func: 0.7117\n",
      "Iteration: 14 / 20,   Value of cost_func: 0.7075\n",
      "Iteration: 16 / 20,   Value of cost_func: 0.6997\n",
      "Iteration: 18 / 20,   Value of cost_func: 0.6967\n",
      "Iteration: 20 / 20,   Value of cost_func: 0.6953\n",
      "============================================================\n",
      "\n",
      "Optimized parameter:\n",
      "[ 6.01025457  4.24722285  4.49255574  4.54792169  1.68661771  4.96137313\n",
      "  3.45631923 -1.30914127  1.88817245  1.27755965  6.26089413  3.29900283\n",
      "  2.83002313  4.99266437  2.22904904  0.74083852  4.62434654  1.27638185\n",
      "  3.96431352  1.28431949 -0.07740362  6.00119882  6.91878522  6.73321847\n",
      "  6.51105589  5.41518896  1.84546367  0.4437477   2.73190713  1.35610803\n",
      "  0.89785092 -1.47333282  4.29050847  0.07180084  4.84170164  0.923293  ]\n",
      "\n",
      "Final value of cost function:  0.6953\n",
      "\n",
      "elapsed time: 75.4s\n"
     ]
    }
   ],
   "source": [
    "# 最適化手法BFGS法を用いて学習を行う\n",
    "import time\n",
    "start = time.time()\n",
    "res, theta_init, theta_opt = qcl.fit(x_train, y_train, maxiter=20)\n",
    "print(f'elapsed time: {time.time() - start:.1f}s')"
   ]
  },
  {
   "cell_type": "markdown",
   "metadata": {},
   "source": [
    "### プロット"
   ]
  },
  {
   "cell_type": "code",
   "execution_count": 39,
   "metadata": {},
   "outputs": [],
   "source": [
    "# グラフ用の設定\n",
    "h = .05  # step size in the mesh\n",
    "X = x_train\n",
    "x_min, x_max = X[:, 0].min() - .5, X[:, 0].max() + .5\n",
    "y_min, y_max = X[:, 1].min() - .5, X[:, 1].max() + .5\n",
    "xx, yy = np.meshgrid(np.arange(x_min, x_max, h), np.arange(y_min, y_max, h))"
   ]
  },
  {
   "cell_type": "code",
   "execution_count": 40,
   "metadata": {},
   "outputs": [],
   "source": [
    "# 各petal length, petal widthについて、モデルの予測値をプロットする関数\n",
    "def decision_boundary(X, y, theta, title='(title here)'):\n",
    "    plt.figure(figsize=(8, 5))\n",
    "\n",
    "    # Plot the decision boundary. For that, we will assign a color to each\n",
    "    # point in the mesh [x_min, x_max]x[y_min, y_max].\n",
    "    qcl.set_input_state(np.c_[xx.ravel(), yy.ravel()])\n",
    "    Z = qcl.pred(theta) # モデルのパラメータθも更新される\n",
    "    Z = np.argmax(Z, axis=1)\n",
    "    \n",
    "    # Put the result into a color plot\n",
    "    Z = Z.reshape(xx.shape)\n",
    "    plt.pcolormesh(xx, yy, Z, cmap=plt.cm.Paired)\n",
    "\n",
    "    # Plot also the training points\n",
    "    plt.scatter(X[:, 0], X[:, 1], c=y, edgecolors='k', cmap=plt.cm.Paired)\n",
    "\n",
    "    # label\n",
    "    plt.title(title)\n",
    "    plt.xlabel('petal length (cm)')\n",
    "    plt.ylabel('petal width (cm)')\n",
    "    plt.show()"
   ]
  },
  {
   "cell_type": "code",
   "execution_count": 41,
   "metadata": {},
   "outputs": [
    {
     "data": {
      "image/png": "[encoded data removed]",
      "text/plain": [
       "<Figure size 576x360 with 1 Axes>"
      ]
     },
     "metadata": {
      "needs_background": "light"
     },
     "output_type": "display_data"
    }
   ],
   "source": [
    "# パラメータthetaの初期値のもとでのグラフ\n",
    "decision_boundary(x_train, iris.target, theta_init, title='Initial')"
   ]
  },
  {
   "cell_type": "code",
   "execution_count": 42,
   "metadata": {},
   "outputs": [
    {
     "data": {
      "image/png": "[encoded data removed]",
      "text/plain": [
       "<Figure size 576x360 with 1 Axes>"
      ]
     },
     "metadata": {
      "needs_background": "light"
     },
     "output_type": "display_data"
    }
   ],
   "source": [
    "# パラメータthetaの最適解のもとでのグラフ\n",
    "decision_boundary(x_train, iris.target, theta_opt, title='Optimized')"
   ]
  },
  {
   "cell_type": "markdown",
   "metadata": {},
   "source": [
    "上図、下図がそれぞれ学習前、学習後に対応している。ここで、データ点と各メッシュの色は、それぞれ同じ品種に対応している。  \n",
    "確かにIrisデータセットの分類に成功していることがわかる。"
   ]
  },
  {
   "cell_type": "markdown",
   "metadata": {},
   "source": [
    "### まとめ"
   ]
  },
  {
   "cell_type": "markdown",
   "metadata": {},
   "source": [
    "本節では、量子回路学習(QCL)を用いて実際の機械学習の問題（分類問題）の解決を行った。  \n",
    "以上は簡単な例ではあるが、量子コンピュータの機械学習への応用の可能性を示唆している。  \n",
    "意欲のある読者は、QCLを用いてより高度な機械学習のタスク（画像認識、自然言語処理など）や、上記モデルの改善に挑戦されたい。  \n",
    "また、更に深く勉強されたい向きは、株式会社QunaSys 御手洗による、量子機械学習に関する[講義ノート](https://www2.yukawa.kyoto-u.ac.jp/~qischool2019/mitaraiCTO.pdf)を参照されたい。"
   ]
  }
 ],
 "metadata": {
  "kernelspec": {
   "display_name": "Python 3",
   "language": "python",
   "name": "python3"
  },
  "language_info": {
   "codemirror_mode": {
    "name": "ipython",
    "version": 3
   },
   "file_extension": ".py",
   "mimetype": "text/x-python",
   "name": "python",
   "nbconvert_exporter": "python",
   "pygments_lexer": "ipython3",
   "version": "3.7.4"
  },
  "varInspector": {
   "cols": {
    "lenName": 16,
    "lenType": 16,
    "lenVar": 40
   },
   "kernels_config": {
    "python": {
     "delete_cmd_postfix": "",
     "delete_cmd_prefix": "del ",
     "library": "var_list.py",
     "varRefreshCmd": "print(var_dic_list())"
    },
    "r": {
     "delete_cmd_postfix": ") ",
     "delete_cmd_prefix": "rm(",
     "library": "var_list.r",
     "varRefreshCmd": "cat(var_dic_list()) "
    }
   },
   "types_to_exclude": [
    "module",
    "function",
    "builtin_function_or_method",
    "instance",
    "_Feature"
   ],
   "window_display": false
  }
 },
 "nbformat": 4,
 "nbformat_minor": 2
}
