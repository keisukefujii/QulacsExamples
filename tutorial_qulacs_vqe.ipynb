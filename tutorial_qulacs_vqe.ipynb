{
 "cells": [
  {
   "cell_type": "markdown",
   "metadata": {},
   "source": [
    "# Qulacsの最低限の使い方&変分アルゴリズムの構成"
   ]
  },
  {
   "cell_type": "code",
   "execution_count": 1,
   "metadata": {},
   "outputs": [],
   "source": [
    "from qulacs import ParametricQuantumCircuit\n",
    "import scipy.optimize\n",
    "\n",
    "import matplotlib.pyplot as plt\n",
    "import numpy as np\n",
    "import time \n",
    "import random\n",
    "import scipy.linalg\n",
    "\n",
    "from qulacs import QuantumState\n",
    "from qulacs import QuantumCircuit\n",
    "from qulacs.gate import DenseMatrix\n",
    "from qulacs.circuit import QuantumCircuitOptimizer\n",
    "\n",
    "from qulacs import QuantumState\n",
    "#固定ゲート\n",
    "from qulacs.gate import Identity, X,Y,Z #パウリ演算子\n",
    "from qulacs.gate import H,S,Sdag, sqrtX,sqrtXdag,sqrtY,sqrtYdag #1量子ビット Clifford演算\n",
    "from qulacs.gate import T,Tdag #1量子ビット 非Clifford演算\n",
    "from qulacs.gate import CNOT, CZ, SWAP #2量子ビット演算\n",
    "\n",
    "#パラメータ付きゲート\n",
    "from qulacs.gate import RX,RY,RZ #パウリ演算子についての回転演算\n",
    "from qulacs.gate import U1,U2,U3 #IBM Gate\n",
    "from qulacs.gate import PauliRotation\n",
    "\n",
    "\n",
    "\n",
    "\n",
    "from qulacs import Observable"
   ]
  },
  {
   "cell_type": "code",
   "execution_count": 2,
   "metadata": {},
   "outputs": [],
   "source": [
    "def show_observable(hamiltonian):\n",
    "    for j in range(hamiltonian.get_term_count()):\n",
    "        pauli=hamiltonian.get_term(j)\n",
    "\n",
    "        # Get the subscript of each pauli symbol\n",
    "        index_list = pauli.get_index_list()\n",
    "\n",
    "        # Get pauli symbols (I,X,Y,Z -> 0,1,2,3)\n",
    "        pauli_id_list = pauli.get_pauli_id_list()\n",
    "\n",
    "        # Get pauli coefficient\n",
    "        coef = pauli.get_coef()\n",
    "\n",
    "        # Create a copy of pauli operator\n",
    "        another_pauli = pauli.copy()\n",
    "\n",
    "        s = [\"I\",\"X\",\"Y\",\"Z\"]\n",
    "        pauli_str = [s[i] for i in pauli_id_list]\n",
    "        terms_str = [item[0]+str(item[1]) for item in zip(pauli_str,index_list)]\n",
    "        full_str = str(coef) + \" \" + \" \".join(terms_str)\n",
    "        print(full_str)\n",
    "\n",
    "\n",
    "def define_Heisenberg_Hamiltonian(operator,ListOfInt):\n",
    "    nqubits = operator.get_qubit_count()\n",
    "    for k in range(len(ListOfInt)):\n",
    "        operator.add_operator(1.0,\"Z {0}\".format(ListOfInt[k][0])+\"Z {0}\".format(ListOfInt[k][1]))\n",
    "        operator.add_operator(1.0,\"X {0}\".format(ListOfInt[k][0])+\"X {0}\".format(ListOfInt[k][1])) \n",
    "        operator.add_operator(1.0,\"Y {0}\".format(ListOfInt[k][0])+\"Y {0}\".format(ListOfInt[k][1])) \n",
    "    return operator\n",
    "\n",
    "\n",
    "\n",
    "def define_Z_field(operator):\n",
    "    nqubits = operator.get_qubit_count()\n",
    "    for k in range(nqubits):\n",
    "        operator.add_operator(1.0,\"Z {0}\".format(k)) \n",
    "    return operator\n",
    "\n",
    "\n",
    "\n",
    "def hamiltonian_ansatz(hamiltonian,driver,max_depth):\n",
    "    i=0\n",
    "\n",
    "    nqubits = hamiltonian.get_qubit_count()\n",
    "    ansatz_circuit =ParametricQuantumCircuit(nqubits)\n",
    "\n",
    "\n",
    "    for depth in range(max_depth):\n",
    "        for j in range(hamiltonian.get_term_count()):\n",
    "            pauli = hamiltonian.get_term(j)\n",
    "\n",
    "            # Get the subscript of each pauli symbol\n",
    "            index_list = pauli.get_index_list()\n",
    "\n",
    "            # Get pauli symbols (I,X,Y,Z -> 0,1,2,3)\n",
    "            pauli_id_list = pauli.get_pauli_id_list()\n",
    "\n",
    "            ansatz_circuit.add_parametric_multi_Pauli_rotation_gate(index_list, pauli_id_list, 0.0)\n",
    "            i+=1\n",
    "\n",
    "        for j in range(driver.get_term_count()):\n",
    "            pauli = driver.get_term(j)\n",
    "\n",
    "            # Get the subscript of each pauli symbol\n",
    "            index_list = pauli.get_index_list()\n",
    "            # Get pauli symbols (I,X,Y,Z -> 0,1,2,3)\n",
    "            pauli_id_list = pauli.get_pauli_id_list()\n",
    "\n",
    "            ansatz_circuit.add_parametric_multi_Pauli_rotation_gate(index_list, pauli_id_list, 0.0)\n",
    "            i+=1    \n",
    " #   print(ansatz_circuit.get_parameter_count())\n",
    "#    print(ansatz_circuit)\n",
    "    return ansatz_circuit\n",
    "\n",
    "def cost_func_ansatz(ansatz_circuit,hamiltonian,para):\n",
    "    nqubits = ansatz_circuit.get_qubit_count()\n",
    "    state = QuantumState(nqubits)\n",
    "\n",
    "    parameter_count = ansatz_circuit.get_parameter_count()\n",
    "\n",
    "\n",
    "\n",
    "    for i in range(parameter_count):\n",
    "        ansatz_circuit.set_parameter(i,para[i])\n",
    "        \n",
    "    ansatz_circuit.update_quantum_state(state)\n",
    "\n",
    "    return  hamiltonian.get_expectation_value(state)\n",
    "\n"
   ]
  },
  {
   "cell_type": "code",
   "execution_count": 3,
   "metadata": {},
   "outputs": [
    {
     "name": "stdout",
     "output_type": "stream",
     "text": [
      " *** Quantum State ***\n",
      " * Qubit Count : 3\n",
      " * Dimension   : 8\n",
      " * State vector : \n",
      "(1,0)\n",
      "(0,0)\n",
      "(0,0)\n",
      "(0,0)\n",
      "(0,0)\n",
      "(0,0)\n",
      "(0,0)\n",
      "(0,0)\n",
      "\n"
     ]
    },
    {
     "data": {
      "text/plain": [
       "array([1.+0.j, 0.+0.j, 0.+0.j, 0.+0.j, 0.+0.j, 0.+0.j, 0.+0.j, 0.+0.j])"
      ]
     },
     "execution_count": 3,
     "metadata": {},
     "output_type": "execute_result"
    }
   ],
   "source": [
    "nqubits = 3\n",
    "state = QuantumState(nqubits)\n",
    "print(state)\n",
    "state.get_vector()"
   ]
  },
  {
   "cell_type": "code",
   "execution_count": 4,
   "metadata": {},
   "outputs": [
    {
     "data": {
      "text/plain": [
       "[1.1, 1.1, 1.1, 1.1, 1.1, 1.1, 1.1, 1.1]"
      ]
     },
     "execution_count": 4,
     "metadata": {},
     "output_type": "execute_result"
    }
   ],
   "source": [
    "my_vector = [ 1.1 for i in range(8)]\n",
    "my_vector"
   ]
  },
  {
   "cell_type": "code",
   "execution_count": 5,
   "metadata": {},
   "outputs": [
    {
     "name": "stdout",
     "output_type": "stream",
     "text": [
      " *** Quantum State ***\n",
      " * Qubit Count : 3\n",
      " * Dimension   : 8\n",
      " * State vector : \n",
      "(1.1,0)\n",
      "(1.1,0)\n",
      "(1.1,0)\n",
      "(1.1,0)\n",
      "(1.1,0)\n",
      "(1.1,0)\n",
      "(1.1,0)\n",
      "(1.1,0)\n",
      "\n"
     ]
    }
   ],
   "source": [
    "state.load(my_vector)\n",
    "print(state)"
   ]
  },
  {
   "cell_type": "code",
   "execution_count": 6,
   "metadata": {},
   "outputs": [
    {
     "name": "stdout",
     "output_type": "stream",
     "text": [
      " *** Quantum State ***\n",
      " * Qubit Count : 3\n",
      " * Dimension   : 8\n",
      " * State vector : \n",
      "(1,0)\n",
      "(0,0)\n",
      "(0,0)\n",
      "(0,0)\n",
      "(0,0)\n",
      "(0,0)\n",
      "(0,0)\n",
      "(0,0)\n",
      "\n"
     ]
    }
   ],
   "source": [
    "state.set_zero_state()\n",
    "print(state)"
   ]
  },
  {
   "cell_type": "code",
   "execution_count": 7,
   "metadata": {},
   "outputs": [
    {
     "name": "stdout",
     "output_type": "stream",
     "text": [
      " *** Quantum State ***\n",
      " * Qubit Count : 3\n",
      " * Dimension   : 8\n",
      " * State vector : \n",
      "(0.0172775,-0.0380851)\n",
      " (-0.0124971,0.283042)\n",
      "  (0.526546,-0.293042)\n",
      "   (0.338521,0.456432)\n",
      "  (0.0368478,0.287595)\n",
      " (-0.107395,-0.298935)\n",
      "  (0.157371,0.0942958)\n",
      "(-0.0593572,0.0989268)\n",
      "\n"
     ]
    }
   ],
   "source": [
    "state.set_Haar_random_state()\n",
    "print(state)"
   ]
  },
  {
   "cell_type": "code",
   "execution_count": 8,
   "metadata": {},
   "outputs": [
    {
     "name": "stdout",
     "output_type": "stream",
     "text": [
      "*** Quantum Circuit Info ***\n",
      "# of qubit: 3\n",
      "# of step : 0\n",
      "# of gate : 0\n",
      "Clifford  : yes\n",
      "Gaussian  : yes\n",
      "\n",
      "\n"
     ]
    }
   ],
   "source": [
    "circuit = QuantumCircuit(nqubits)\n",
    "print(circuit)"
   ]
  },
  {
   "cell_type": "code",
   "execution_count": 9,
   "metadata": {},
   "outputs": [
    {
     "name": "stdout",
     "output_type": "stream",
     "text": [
      "*** Quantum Circuit Info ***\n",
      "# of qubit: 3\n",
      "# of step : 1\n",
      "# of gate : 3\n",
      "# of 1 qubit gate: 3\n",
      "Clifford  : yes\n",
      "Gaussian  : no\n",
      "\n",
      "\n",
      " *** Quantum State ***\n",
      " * Qubit Count : 3\n",
      " * Dimension   : 8\n",
      " * State vector : \n",
      "(0.353553,0)\n",
      "(0.353553,0)\n",
      "(0.353553,0)\n",
      "(0.353553,0)\n",
      "(0.353553,0)\n",
      "(0.353553,0)\n",
      "(0.353553,0)\n",
      "(0.353553,0)\n",
      "\n"
     ]
    }
   ],
   "source": [
    "state.set_zero_state()\n",
    "circuit = QuantumCircuit(nqubits)\n",
    "\n",
    "for i in range(nqubits):\n",
    "    circuit.add_gate(H(i))\n",
    "print(circuit)\n",
    "\n",
    "circuit.update_quantum_state(state)\n",
    "print(state)"
   ]
  },
  {
   "cell_type": "code",
   "execution_count": 10,
   "metadata": {},
   "outputs": [
    {
     "name": "stdout",
     "output_type": "stream",
     "text": [
      "*** Quantum Circuit Info ***\n",
      "# of qubit: 10\n",
      "# of step : 1\n",
      "# of gate : 10\n",
      "# of 1 qubit gate: 10\n",
      "Clifford  : yes\n",
      "Gaussian  : no\n",
      "\n",
      "\n"
     ]
    }
   ],
   "source": [
    "nqubits =10\n",
    "state = QuantumState(nqubits)\n",
    "state.set_Haar_random_state()\n",
    "circuit = QuantumCircuit(nqubits)\n",
    "\n",
    "for i in range(nqubits):\n",
    "    circuit.add_gate(H(i))\n",
    "print(circuit)\n",
    "\n",
    "circuit.update_quantum_state(state)"
   ]
  },
  {
   "cell_type": "code",
   "execution_count": 11,
   "metadata": {},
   "outputs": [
    {
     "name": "stdout",
     "output_type": "stream",
     "text": [
      "(1+0j) Z0\n"
     ]
    }
   ],
   "source": [
    "measurement = Observable(nqubits)\n",
    "measurement.add_operator(1.0,\"Z 0\")\n",
    "show_observable(measurement)"
   ]
  },
  {
   "cell_type": "code",
   "execution_count": 12,
   "metadata": {},
   "outputs": [
    {
     "name": "stdout",
     "output_type": "stream",
     "text": [
      "(1+0j) Z0\n",
      "(1.5+0j) Z1\n"
     ]
    }
   ],
   "source": [
    "measurement.add_operator(1.5,\"Z 1\")\n",
    "show_observable(measurement)"
   ]
  },
  {
   "cell_type": "code",
   "execution_count": 13,
   "metadata": {
    "scrolled": true
   },
   "outputs": [
    {
     "name": "stdout",
     "output_type": "stream",
     "text": [
      "(1+0j) Z0\n",
      "(1.5+0j) Z1\n",
      "(1.5+0j) Y2\n"
     ]
    }
   ],
   "source": [
    "measurement.add_operator(1.5,\"Y 2\")\n",
    "show_observable(measurement)"
   ]
  },
  {
   "cell_type": "code",
   "execution_count": 14,
   "metadata": {},
   "outputs": [
    {
     "name": "stdout",
     "output_type": "stream",
     "text": [
      "(1+0j) Z0\n",
      "(1.5+0j) Z1\n",
      "(1.5+0j) Y2\n",
      "(1.5+0j) Z0 X1\n"
     ]
    }
   ],
   "source": [
    "measurement.add_operator(1.5,\"Z 0 X 1\")\n",
    "show_observable(measurement)"
   ]
  },
  {
   "cell_type": "code",
   "execution_count": 15,
   "metadata": {},
   "outputs": [
    {
     "data": {
      "text/plain": [
       "-0.09720225856010761"
      ]
     },
     "execution_count": 15,
     "metadata": {},
     "output_type": "execute_result"
    }
   ],
   "source": [
    "measurement.get_expectation_value(state)"
   ]
  },
  {
   "cell_type": "code",
   "execution_count": 16,
   "metadata": {},
   "outputs": [
    {
     "data": {
      "text/plain": [
       "[358, 903, 624, 23, 664, 581, 117, 268, 485, 457]"
      ]
     },
     "execution_count": 16,
     "metadata": {},
     "output_type": "execute_result"
    }
   ],
   "source": [
    "state.sampling(10)"
   ]
  },
  {
   "cell_type": "code",
   "execution_count": 17,
   "metadata": {},
   "outputs": [
    {
     "name": "stdout",
     "output_type": "stream",
     "text": [
      "(1+0j) Z0 Z1\n",
      "(1+0j) X0 X1\n",
      "(1+0j) Y0 Y1\n",
      "(1+0j) Z1 Z2\n",
      "(1+0j) X1 X2\n",
      "(1+0j) Y1 Y2\n",
      "(1+0j) Z2 Z0\n",
      "(1+0j) X2 X0\n",
      "(1+0j) Y2 Y0\n"
     ]
    }
   ],
   "source": [
    "nqubits = 3\n",
    "\n",
    "hamiltonian = Observable(nqubits)\n",
    "hamiltonian = define_Heisenberg_Hamiltonian(hamiltonian,[[0,1],[1,2],[2,0]])\n",
    "show_observable(hamiltonian)\n",
    "driver = Observable(nqubits)\n",
    "driver = define_Z_field(driver)"
   ]
  },
  {
   "cell_type": "code",
   "execution_count": 18,
   "metadata": {},
   "outputs": [],
   "source": [
    "max_depth =2\n",
    "ansatz_circuit = hamiltonian_ansatz(hamiltonian,driver,max_depth)\n",
    "\n",
    "def cost(para):\n",
    "    return cost_func_ansatz(ansatz_circuit,hamiltonian,para)\n"
   ]
  },
  {
   "cell_type": "code",
   "execution_count": 19,
   "metadata": {},
   "outputs": [
    {
     "data": {
      "image/png": "[encoded data removed]",
      "text/plain": [
       "<Figure size 432x288 with 1 Axes>"
      ]
     },
     "metadata": {
      "needs_background": "light"
     },
     "output_type": "display_data"
    }
   ],
   "source": [
    "cost_history = []\n",
    "init_theta_list = [random.random() for i in range(ansatz_circuit.get_parameter_count())]\n",
    "cost_history.append(cost(init_theta_list))\n",
    "method = \"BFGS\"\n",
    "options = {\"disp\": True, \"maxiter\": 50, \"gtol\": 1e-6}\n",
    "\n",
    "opt = scipy.optimize.minimize(cost, init_theta_list,\n",
    "               method=method,\n",
    "               callback=lambda x: cost_history.append(cost(x)))\n",
    "\n",
    "plt.rcParams[\"font.size\"] = 18\n",
    "plt.plot(cost_history, color=\"red\", label=\"VQE\")\n",
    "plt.xlabel(\"Iteration\")\n",
    "plt.ylabel(\"Energy expectation value\")\n",
    "plt.legend()\n",
    "plt.show()"
   ]
  },
  {
   "cell_type": "code",
   "execution_count": 20,
   "metadata": {},
   "outputs": [],
   "source": [
    "def open_square_Heisenberg_anti_ferro(length):\n",
    "    nqubits = length**2\n",
    "    \n",
    "    vertical = [[i,(i+1)%length] for i in range(length-1)]\n",
    "    horizontal = [[(i%length)*length,((i+1)%length)*length] for i in range(length-1)]\n",
    "\n",
    "    ListOfInt = []\n",
    "    for pair in vertical:\n",
    "        for i in range(length):\n",
    "            ListOfInt.append([pair[0]+i*length,pair[1]+i*length])\n",
    "\n",
    "    for pair in horizontal:\n",
    "        for i in range(length):\n",
    "            ListOfInt.append([pair[0]+i,pair[1]+i])\n",
    "\n",
    "#    print(ListOfInt)\n",
    "    \n",
    "    hamiltonian = Observable(nqubits)\n",
    "    hamiltonian = define_Heisenberg_Hamiltonian(hamiltonian,ListOfInt)\n",
    "\n",
    "    return hamiltonian"
   ]
  },
  {
   "cell_type": "code",
   "execution_count": 25,
   "metadata": {},
   "outputs": [],
   "source": [
    "max_depth =2\n",
    "length = 3\n",
    "hamiltonian = open_square_Heisenberg_anti_ferro(length)\n",
    "ansatz_circuit = hamiltonian_ansatz(hamiltonian,driver,max_depth)\n",
    "\n",
    "def cost(para):\n",
    "    return cost_func_ansatz(ansatz_circuit,hamiltonian,para)"
   ]
  },
  {
   "cell_type": "code",
   "execution_count": 26,
   "metadata": {},
   "outputs": [
    {
     "data": {
      "image/png": "[encoded data removed]",
      "text/plain": [
       "<Figure size 432x288 with 1 Axes>"
      ]
     },
     "metadata": {
      "needs_background": "light"
     },
     "output_type": "display_data"
    }
   ],
   "source": [
    "cost_history = []\n",
    "init_theta_list = [random.random() for i in range(ansatz_circuit.get_parameter_count())]\n",
    "cost_history.append(cost(init_theta_list))\n",
    "method = \"BFGS\"\n",
    "options = {\"disp\": True, \"maxiter\": 10, \"gtol\": 1e-6}\n",
    "\n",
    "opt = scipy.optimize.minimize(cost, init_theta_list,\n",
    "               method=method,\n",
    "               callback=lambda x: cost_history.append(cost(x)))\n",
    "\n",
    "plt.rcParams[\"font.size\"] = 18\n",
    "plt.plot(cost_history, color=\"red\", label=\"VQE\")\n",
    "plt.xlabel(\"Iteration\")\n",
    "plt.ylabel(\"Energy expectation value\")\n",
    "plt.legend()\n",
    "plt.show()"
   ]
  },
  {
   "cell_type": "code",
   "execution_count": null,
   "metadata": {},
   "outputs": [],
   "source": []
  }
 ],
 "metadata": {
  "kernelspec": {
   "display_name": "Python 3",
   "language": "python",
   "name": "python3"
  },
  "language_info": {
   "codemirror_mode": {
    "name": "ipython",
    "version": 3
   },
   "file_extension": ".py",
   "mimetype": "text/x-python",
   "name": "python",
   "nbconvert_exporter": "python",
   "pygments_lexer": "ipython3",
   "version": "3.7.4"
  }
 },
 "nbformat": 4,
 "nbformat_minor": 2
}
